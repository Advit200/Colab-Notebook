{
 "cells": [
  {
   "cell_type": "code",
   "execution_count": 1,
   "metadata": {
    "_cell_guid": "b1076dfc-b9ad-4769-8c92-a6c4dae69d19",
    "_uuid": "8f2839f25d086af736a60e9eeb907d3b93b6e0e5",
    "execution": {
     "iopub.execute_input": "2021-08-07T12:26:41.839576Z",
     "iopub.status.busy": "2021-08-07T12:26:41.839119Z",
     "iopub.status.idle": "2021-08-07T12:26:41.867700Z",
     "shell.execute_reply": "2021-08-07T12:26:41.865960Z",
     "shell.execute_reply.started": "2021-08-07T12:26:41.839470Z"
    }
   },
   "outputs": [
    {
     "name": "stdout",
     "output_type": "stream",
     "text": [
      "/kaggle/input/finaldata/Final_PowerBI_input.xlsx\n"
     ]
    }
   ],
   "source": [
    "# This Python 3 environment comes with many helpful analytics libraries installed\n",
    "# It is defined by the kaggle/python Docker image: https://github.com/kaggle/docker-python\n",
    "# For example, here's several helpful packages to load\n",
    "\n",
    "import numpy as np # linear algebra\n",
    "import pandas as pd # data processing, CSV file I/O (e.g. pd.read_csv)\n",
    "\n",
    "# Input data files are available in the read-only \"../input/\" directory\n",
    "# For example, running this (by clicking run or pressing Shift+Enter) will list all files under the input directory\n",
    "\n",
    "import os\n",
    "for dirname, _, filenames in os.walk('/kaggle/input'):\n",
    "    for filename in filenames:\n",
    "        print(os.path.join(dirname, filename))\n",
    "\n",
    "# You can write up to 20GB to the current directory (/kaggle/working/) that gets preserved as output when you create a version using \"Save & Run All\" \n",
    "# You can also write temporary files to /kaggle/temp/, but they won't be saved outside of the current session"
   ]
  },
  {
   "cell_type": "markdown",
   "metadata": {},
   "source": [
    "**BERT Notes :**\n",
    "\n",
    "1. BERT is transformer based model which is different from LLSTM model in the sense,text doesnt have to put in a sequence in BERT compared to LSTM models.So it is fast as a whole sentence can be splitted into words and put at once i.e parallel processing of the words are possible.Even though the words are put at once,BERT has the ability to catch the sequence btw the words and the context in which it is being used in the sentence.This also solves one of the problem with the LSTM models where when the sentences become very long,there are chances of the LSTM model to loose the context and effect of one word on other words.This is solved in BERT model by assigning position to each of the words of the sentence before inserting into the attention layers and is achieved by the \"positional encoding\" layer.\n",
    "\n",
    "2. BERT is also different from other DL models in the sense that it generates \"contextual embeddings\" i.e a word has different vector representation depending on the contect in which is used.This is lacked by the word2vec or glove models.\n",
    "\n",
    "3. BERT is basically trained for two tasks : First for masked language modelling ( masking 15 % of the words in the corpus and then asking the NN to preddict those words ) and second for next sentence prediction ( given two sentences,predicte that if the next sentence is continuation/follow of the previous sentence.\n",
    "\n",
    "4. BERT can be very easily fine tuned for the specifics NLP tasks like sentiment analysis,question answering etc.It has million of parameters,so even fine tunning the BERT model for 1-2 epochs enchanes the performace a lot.\n",
    "\n",
    "5. BERT has a non-directional artitecture compared to bidirectional or single in LSTMs."
   ]
  },
  {
   "cell_type": "code",
   "execution_count": 97,
   "metadata": {
    "execution": {
     "iopub.execute_input": "2021-08-07T13:24:43.940008Z",
     "iopub.status.busy": "2021-08-07T13:24:43.939664Z",
     "iopub.status.idle": "2021-08-07T13:24:43.945033Z",
     "shell.execute_reply": "2021-08-07T13:24:43.944044Z",
     "shell.execute_reply.started": "2021-08-07T13:24:43.939977Z"
    }
   },
   "outputs": [],
   "source": [
    "import pandas as pd\n",
    "import transformers\n",
    "import torch\n",
    "from torch.utils import data\n",
    "from torch import nn,optim\n",
    "from sklearn.model_selection import train_test_split\n",
    "from sklearn.utils import shuffle\n",
    "from sklearn.metrics import accuracy_score,matthews_corrcoef,confusion_matrix,classification_report\n",
    "from collections import defaultdict\n",
    "import seaborn as sns\n",
    "import matplotlib.pyplot as plt"
   ]
  },
  {
   "cell_type": "code",
   "execution_count": 3,
   "metadata": {
    "execution": {
     "iopub.execute_input": "2021-08-07T12:26:44.129138Z",
     "iopub.status.busy": "2021-08-07T12:26:44.128817Z",
     "iopub.status.idle": "2021-08-07T12:26:44.193051Z",
     "shell.execute_reply": "2021-08-07T12:26:44.191951Z",
     "shell.execute_reply.started": "2021-08-07T12:26:44.129110Z"
    }
   },
   "outputs": [
    {
     "name": "stdout",
     "output_type": "stream",
     "text": [
      "There are 1 GPU(s) available.\n",
      "We will use the GPU: Tesla P100-PCIE-16GB\n"
     ]
    }
   ],
   "source": [
    "import torch\n",
    "\n",
    "# If there's a GPU available...\n",
    "if torch.cuda.is_available():    \n",
    "\n",
    "    # Tell PyTorch to use the GPU.    \n",
    "    device = torch.device(\"cuda\")\n",
    "\n",
    "    print('There are %d GPU(s) available.' % torch.cuda.device_count())\n",
    "\n",
    "    print('We will use the GPU:', torch.cuda.get_device_name(0))\n",
    "\n",
    "# If not...\n",
    "else:\n",
    "    print('No GPU available, using the CPU instead.')\n",
    "    device = torch.device(\"cpu\")"
   ]
  },
  {
   "cell_type": "code",
   "execution_count": 4,
   "metadata": {
    "execution": {
     "iopub.execute_input": "2021-08-07T12:26:44.195622Z",
     "iopub.status.busy": "2021-08-07T12:26:44.195170Z",
     "iopub.status.idle": "2021-08-07T12:26:54.254598Z",
     "shell.execute_reply": "2021-08-07T12:26:54.253604Z",
     "shell.execute_reply.started": "2021-08-07T12:26:44.195581Z"
    }
   },
   "outputs": [
    {
     "name": "stdout",
     "output_type": "stream",
     "text": [
      "Collecting openpyxl\n",
      "  Downloading openpyxl-3.0.7-py2.py3-none-any.whl (243 kB)\n",
      "\u001b[K     |████████████████████████████████| 243 kB 624 kB/s eta 0:00:01\n",
      "\u001b[?25hCollecting nlpaug\n",
      "  Downloading nlpaug-1.1.7-py3-none-any.whl (405 kB)\n",
      "\u001b[K     |████████████████████████████████| 405 kB 3.9 MB/s eta 0:00:01\n",
      "\u001b[?25hCollecting et-xmlfile\n",
      "  Downloading et_xmlfile-1.1.0-py3-none-any.whl (4.7 kB)\n",
      "Installing collected packages: et-xmlfile, openpyxl, nlpaug\n",
      "Successfully installed et-xmlfile-1.1.0 nlpaug-1.1.7 openpyxl-3.0.7\n",
      "\u001b[33mWARNING: Running pip as root will break packages and permissions. You should install packages reliably by using venv: https://pip.pypa.io/warnings/venv\u001b[0m\n"
     ]
    }
   ],
   "source": [
    "! pip install openpyxl nlpaug"
   ]
  },
  {
   "cell_type": "code",
   "execution_count": 5,
   "metadata": {
    "execution": {
     "iopub.execute_input": "2021-08-07T12:26:54.256569Z",
     "iopub.status.busy": "2021-08-07T12:26:54.256220Z",
     "iopub.status.idle": "2021-08-07T12:27:03.123897Z",
     "shell.execute_reply": "2021-08-07T12:27:03.122025Z",
     "shell.execute_reply.started": "2021-08-07T12:26:54.256531Z"
    }
   },
   "outputs": [
    {
     "data": {
      "text/html": [
       "<div>\n",
       "<style scoped>\n",
       "    .dataframe tbody tr th:only-of-type {\n",
       "        vertical-align: middle;\n",
       "    }\n",
       "\n",
       "    .dataframe tbody tr th {\n",
       "        vertical-align: top;\n",
       "    }\n",
       "\n",
       "    .dataframe thead th {\n",
       "        text-align: right;\n",
       "    }\n",
       "</style>\n",
       "<table border=\"1\" class=\"dataframe\">\n",
       "  <thead>\n",
       "    <tr style=\"text-align: right;\">\n",
       "      <th></th>\n",
       "      <th>Rating</th>\n",
       "      <th>Pros</th>\n",
       "      <th>Cons</th>\n",
       "      <th>Main_Review</th>\n",
       "      <th>Review_id</th>\n",
       "      <th>Sentiment</th>\n",
       "    </tr>\n",
       "  </thead>\n",
       "  <tbody>\n",
       "    <tr>\n",
       "      <th>0</th>\n",
       "      <td>4</td>\n",
       "      <td>NaN</td>\n",
       "      <td>NaN</td>\n",
       "      <td>1. This company has eight hours shift round th...</td>\n",
       "      <td>1</td>\n",
       "      <td>POSITIVE</td>\n",
       "    </tr>\n",
       "    <tr>\n",
       "      <th>2</th>\n",
       "      <td>4</td>\n",
       "      <td>NaN</td>\n",
       "      <td>NaN</td>\n",
       "      <td>As with all jobs, your experience will depend ...</td>\n",
       "      <td>2</td>\n",
       "      <td>POSITIVE</td>\n",
       "    </tr>\n",
       "    <tr>\n",
       "      <th>5</th>\n",
       "      <td>5</td>\n",
       "      <td>Good benefits</td>\n",
       "      <td>Work your life away</td>\n",
       "      <td>Very hot and dirty working conditions very old...</td>\n",
       "      <td>3</td>\n",
       "      <td>NEUTRAL</td>\n",
       "    </tr>\n",
       "    <tr>\n",
       "      <th>7</th>\n",
       "      <td>5</td>\n",
       "      <td>Full benefits, good pay, mist fans</td>\n",
       "      <td>The Texas heat</td>\n",
       "      <td>Everyone is pretty helpful there especially be...</td>\n",
       "      <td>4</td>\n",
       "      <td>POSITIVE</td>\n",
       "    </tr>\n",
       "    <tr>\n",
       "      <th>10</th>\n",
       "      <td>5</td>\n",
       "      <td>Benefits</td>\n",
       "      <td>Oil related</td>\n",
       "      <td>Rewarding place to work. Everyone is professio...</td>\n",
       "      <td>5</td>\n",
       "      <td>POSITIVE</td>\n",
       "    </tr>\n",
       "    <tr>\n",
       "      <th>...</th>\n",
       "      <td>...</td>\n",
       "      <td>...</td>\n",
       "      <td>...</td>\n",
       "      <td>...</td>\n",
       "      <td>...</td>\n",
       "      <td>...</td>\n",
       "    </tr>\n",
       "    <tr>\n",
       "      <th>21561</th>\n",
       "      <td>4</td>\n",
       "      <td>NaN</td>\n",
       "      <td>NaN</td>\n",
       "      <td>NaN</td>\n",
       "      <td>10884</td>\n",
       "      <td>POSITIVE</td>\n",
       "    </tr>\n",
       "    <tr>\n",
       "      <th>21562</th>\n",
       "      <td>1</td>\n",
       "      <td>NaN</td>\n",
       "      <td>NaN</td>\n",
       "      <td>NaN</td>\n",
       "      <td>10885</td>\n",
       "      <td>NEGATIVE</td>\n",
       "    </tr>\n",
       "    <tr>\n",
       "      <th>21563</th>\n",
       "      <td>4</td>\n",
       "      <td>NaN</td>\n",
       "      <td>NaN</td>\n",
       "      <td>NaN</td>\n",
       "      <td>10886</td>\n",
       "      <td>POSITIVE</td>\n",
       "    </tr>\n",
       "    <tr>\n",
       "      <th>21564</th>\n",
       "      <td>3</td>\n",
       "      <td>NaN</td>\n",
       "      <td>NaN</td>\n",
       "      <td>NaN</td>\n",
       "      <td>10887</td>\n",
       "      <td>POSITIVE</td>\n",
       "    </tr>\n",
       "    <tr>\n",
       "      <th>21565</th>\n",
       "      <td>3</td>\n",
       "      <td>NaN</td>\n",
       "      <td>NaN</td>\n",
       "      <td>NaN</td>\n",
       "      <td>10888</td>\n",
       "      <td>POSITIVE</td>\n",
       "    </tr>\n",
       "  </tbody>\n",
       "</table>\n",
       "<p>10888 rows × 6 columns</p>\n",
       "</div>"
      ],
      "text/plain": [
       "       Rating                                Pros                 Cons  \\\n",
       "0           4                                 NaN                  NaN   \n",
       "2           4                                 NaN                  NaN   \n",
       "5           5                       Good benefits  Work your life away   \n",
       "7           5  Full benefits, good pay, mist fans       The Texas heat   \n",
       "10          5                            Benefits          Oil related   \n",
       "...       ...                                 ...                  ...   \n",
       "21561       4                                 NaN                  NaN   \n",
       "21562       1                                 NaN                  NaN   \n",
       "21563       4                                 NaN                  NaN   \n",
       "21564       3                                 NaN                  NaN   \n",
       "21565       3                                 NaN                  NaN   \n",
       "\n",
       "                                             Main_Review  Review_id Sentiment  \n",
       "0      1. This company has eight hours shift round th...          1  POSITIVE  \n",
       "2      As with all jobs, your experience will depend ...          2  POSITIVE  \n",
       "5      Very hot and dirty working conditions very old...          3   NEUTRAL  \n",
       "7      Everyone is pretty helpful there especially be...          4  POSITIVE  \n",
       "10     Rewarding place to work. Everyone is professio...          5  POSITIVE  \n",
       "...                                                  ...        ...       ...  \n",
       "21561                                                NaN      10884  POSITIVE  \n",
       "21562                                                NaN      10885  NEGATIVE  \n",
       "21563                                                NaN      10886  POSITIVE  \n",
       "21564                                                NaN      10887  POSITIVE  \n",
       "21565                                                NaN      10888  POSITIVE  \n",
       "\n",
       "[10888 rows x 6 columns]"
      ]
     },
     "execution_count": 5,
     "metadata": {},
     "output_type": "execute_result"
    }
   ],
   "source": [
    "df = pd.read_excel(\"../input/finaldata/Final_PowerBI_input.xlsx\",usecols=[\"Rating\",\"Main_Review\",\"Pros\",\"Cons\",\"Sentiment\",\"Review_id\"],engine=\"openpyxl\")\n",
    "df.drop_duplicates(inplace=True)\n",
    "df"
   ]
  },
  {
   "cell_type": "code",
   "execution_count": 6,
   "metadata": {
    "execution": {
     "iopub.execute_input": "2021-08-07T12:27:03.125651Z",
     "iopub.status.busy": "2021-08-07T12:27:03.125306Z",
     "iopub.status.idle": "2021-08-07T12:27:03.310452Z",
     "shell.execute_reply": "2021-08-07T12:27:03.309523Z",
     "shell.execute_reply.started": "2021-08-07T12:27:03.125615Z"
    }
   },
   "outputs": [
    {
     "data": {
      "text/plain": [
       "<AxesSubplot:>"
      ]
     },
     "execution_count": 6,
     "metadata": {},
     "output_type": "execute_result"
    },
    {
     "data": {
      "image/png": "[encoded data removed]",
      "text/plain": [
       "<Figure size 432x288 with 1 Axes>"
      ]
     },
     "metadata": {
      "needs_background": "light"
     },
     "output_type": "display_data"
    }
   ],
   "source": [
    "df.Rating.value_counts().plot(kind=\"bar\")"
   ]
  },
  {
   "cell_type": "markdown",
   "metadata": {},
   "source": [
    "**{0:\"NEGATIVE\",\n",
    "   1:\"NEUTRAL\",\n",
    "   2:\"POSITIVE\"}**"
   ]
  },
  {
   "cell_type": "code",
   "execution_count": 7,
   "metadata": {
    "execution": {
     "iopub.execute_input": "2021-08-07T12:27:03.312247Z",
     "iopub.status.busy": "2021-08-07T12:27:03.311881Z",
     "iopub.status.idle": "2021-08-07T12:27:03.812696Z",
     "shell.execute_reply": "2021-08-07T12:27:03.811884Z",
     "shell.execute_reply.started": "2021-08-07T12:27:03.312209Z"
    }
   },
   "outputs": [
    {
     "data": {
      "text/html": [
       "<div>\n",
       "<style scoped>\n",
       "    .dataframe tbody tr th:only-of-type {\n",
       "        vertical-align: middle;\n",
       "    }\n",
       "\n",
       "    .dataframe tbody tr th {\n",
       "        vertical-align: top;\n",
       "    }\n",
       "\n",
       "    .dataframe thead th {\n",
       "        text-align: right;\n",
       "    }\n",
       "</style>\n",
       "<table border=\"1\" class=\"dataframe\">\n",
       "  <thead>\n",
       "    <tr style=\"text-align: right;\">\n",
       "      <th></th>\n",
       "      <th>index</th>\n",
       "      <th>Review</th>\n",
       "      <th>Actual_Sentiment</th>\n",
       "      <th>Review_id</th>\n",
       "    </tr>\n",
       "  </thead>\n",
       "  <tbody>\n",
       "    <tr>\n",
       "      <th>0</th>\n",
       "      <td>0</td>\n",
       "      <td>1. This company has eight hours shift round th...</td>\n",
       "      <td>2</td>\n",
       "      <td>1</td>\n",
       "    </tr>\n",
       "    <tr>\n",
       "      <th>1</th>\n",
       "      <td>1</td>\n",
       "      <td>As with all jobs, your experience will depend ...</td>\n",
       "      <td>2</td>\n",
       "      <td>2</td>\n",
       "    </tr>\n",
       "    <tr>\n",
       "      <th>2</th>\n",
       "      <td>2</td>\n",
       "      <td>Very hot and dirty working conditions very old...</td>\n",
       "      <td>2</td>\n",
       "      <td>3</td>\n",
       "    </tr>\n",
       "    <tr>\n",
       "      <th>3</th>\n",
       "      <td>3</td>\n",
       "      <td>Everyone is pretty helpful there especially be...</td>\n",
       "      <td>2</td>\n",
       "      <td>4</td>\n",
       "    </tr>\n",
       "    <tr>\n",
       "      <th>4</th>\n",
       "      <td>4</td>\n",
       "      <td>Rewarding place to work. Everyone is professio...</td>\n",
       "      <td>2</td>\n",
       "      <td>5</td>\n",
       "    </tr>\n",
       "    <tr>\n",
       "      <th>...</th>\n",
       "      <td>...</td>\n",
       "      <td>...</td>\n",
       "      <td>...</td>\n",
       "      <td>...</td>\n",
       "    </tr>\n",
       "    <tr>\n",
       "      <th>21688</th>\n",
       "      <td>21688</td>\n",
       "      <td>Not much of work at the start</td>\n",
       "      <td>0</td>\n",
       "      <td>10858</td>\n",
       "    </tr>\n",
       "    <tr>\n",
       "      <th>21689</th>\n",
       "      <td>21689</td>\n",
       "      <td>its a captive company but work wise worst then...</td>\n",
       "      <td>0</td>\n",
       "      <td>10859</td>\n",
       "    </tr>\n",
       "    <tr>\n",
       "      <th>21690</th>\n",
       "      <td>21690</td>\n",
       "      <td>None whatsoever</td>\n",
       "      <td>0</td>\n",
       "      <td>10860</td>\n",
       "    </tr>\n",
       "    <tr>\n",
       "      <th>21691</th>\n",
       "      <td>21691</td>\n",
       "      <td>Poor management</td>\n",
       "      <td>0</td>\n",
       "      <td>10862</td>\n",
       "    </tr>\n",
       "    <tr>\n",
       "      <th>21692</th>\n",
       "      <td>21692</td>\n",
       "      <td>No</td>\n",
       "      <td>0</td>\n",
       "      <td>10863</td>\n",
       "    </tr>\n",
       "  </tbody>\n",
       "</table>\n",
       "<p>21693 rows × 4 columns</p>\n",
       "</div>"
      ],
      "text/plain": [
       "       index                                             Review  \\\n",
       "0          0  1. This company has eight hours shift round th...   \n",
       "1          1  As with all jobs, your experience will depend ...   \n",
       "2          2  Very hot and dirty working conditions very old...   \n",
       "3          3  Everyone is pretty helpful there especially be...   \n",
       "4          4  Rewarding place to work. Everyone is professio...   \n",
       "...      ...                                                ...   \n",
       "21688  21688                      Not much of work at the start   \n",
       "21689  21689  its a captive company but work wise worst then...   \n",
       "21690  21690                                    None whatsoever   \n",
       "21691  21691                                    Poor management   \n",
       "21692  21692                                                 No   \n",
       "\n",
       "       Actual_Sentiment  Review_id  \n",
       "0                     2          1  \n",
       "1                     2          2  \n",
       "2                     2          3  \n",
       "3                     2          4  \n",
       "4                     2          5  \n",
       "...                 ...        ...  \n",
       "21688                 0      10858  \n",
       "21689                 0      10859  \n",
       "21690                 0      10860  \n",
       "21691                 0      10862  \n",
       "21692                 0      10863  \n",
       "\n",
       "[21693 rows x 4 columns]"
      ]
     },
     "execution_count": 7,
     "metadata": {},
     "output_type": "execute_result"
    }
   ],
   "source": [
    "## For \"Main_Review\" column, assigning review based on \"Rating' column\n",
    "\n",
    "temp_df = df.copy()\n",
    "temp_df[\"Actual_Sentiment\"] = temp_df.loc[:,\"Rating\"].apply(lambda x : 0 if x <= 2 else 1 if x == 3 else 2)\n",
    "temp_df[\"Review\"] = temp_df[\"Main_Review\"].str.replace(r\"'|\\\"|\\\"|'|!|\\s+\", \" \",regex=True)\n",
    "temp_df.dropna(subset=[\"Review\"],inplace=True)\n",
    "\n",
    "temp_df = temp_df[[\"Review\",\"Actual_Sentiment\",\"Review_id\"]]\n",
    "temp_df\n",
    "\n",
    "######################################################################\n",
    "## Assigning POSITIVE sentiment to all the reviews in \"Pros\" category.\n",
    "\n",
    "temp_df_1 = df.copy()\n",
    "temp_df_1[\"Actual_Sentiment\"] = 2\n",
    "temp_df_1[\"Review\"] = temp_df_1[\"Pros\"].str.replace(r\"'|\\\"|\\\"|'|!|\\s+\", \" \",regex=True)\n",
    "temp_df_1.dropna(subset=[\"Review\"],inplace=True)\n",
    "\n",
    "temp_df_pros = temp_df_1[[\"Review\",\"Actual_Sentiment\",\"Review_id\"]]\n",
    "temp_df_pros\n",
    "\n",
    "######################################################################\n",
    "## Assigning NEGATIVE sentiment to all the reviews in \"Cons\" category.\n",
    "\n",
    "temp_df_2 = df.copy()\n",
    "temp_df_2[\"Actual_Sentiment\"] = 0\n",
    "temp_df_2[\"Review\"] = temp_df_2[\"Cons\"].str.replace(r\"'|\\\"|\\\"|'|!|\\s+\", \" \",regex=True)\n",
    "temp_df_2.dropna(subset=[\"Review\"],inplace=True)\n",
    "\n",
    "temp_df_cons = temp_df_2[[\"Review\",\"Actual_Sentiment\",\"Review_id\"]]\n",
    "temp_df_cons\n",
    "\n",
    "######################################################################\n",
    "\n",
    "final_df = pd.concat([temp_df,temp_df_pros,temp_df_cons],axis=0,ignore_index=True)\n",
    "final_df.reset_index(inplace=True)\n",
    "final_df"
   ]
  },
  {
   "cell_type": "code",
   "execution_count": 8,
   "metadata": {
    "execution": {
     "iopub.execute_input": "2021-08-07T12:27:03.815838Z",
     "iopub.status.busy": "2021-08-07T12:27:03.815544Z",
     "iopub.status.idle": "2021-08-07T12:27:04.043718Z",
     "shell.execute_reply": "2021-08-07T12:27:04.042700Z",
     "shell.execute_reply.started": "2021-08-07T12:27:03.815812Z"
    }
   },
   "outputs": [
    {
     "data": {
      "text/plain": [
       "<AxesSubplot:ylabel='Frequency'>"
      ]
     },
     "execution_count": 8,
     "metadata": {},
     "output_type": "execute_result"
    },
    {
     "data": {
      "image/png": "[encoded data removed]",
      "text/plain": [
       "<Figure size 432x288 with 1 Axes>"
      ]
     },
     "metadata": {
      "needs_background": "light"
     },
     "output_type": "display_data"
    }
   ],
   "source": [
    "final_df[\"Review_len\"] = final_df[\"Review\"].apply(lambda x : len(x.split()))\n",
    "final_df[\"Review_len\"].plot(kind=\"hist\",xlim=(0,200))\n",
    "\n",
    "# This shows that most of the reviews have less than 100 words in it ."
   ]
  },
  {
   "cell_type": "code",
   "execution_count": 9,
   "metadata": {
    "execution": {
     "iopub.execute_input": "2021-08-07T12:27:04.046116Z",
     "iopub.status.busy": "2021-08-07T12:27:04.045763Z",
     "iopub.status.idle": "2021-08-07T12:27:04.059638Z",
     "shell.execute_reply": "2021-08-07T12:27:04.058543Z",
     "shell.execute_reply.started": "2021-08-07T12:27:04.046081Z"
    }
   },
   "outputs": [
    {
     "data": {
      "text/plain": [
       "(20808, 5)"
      ]
     },
     "execution_count": 9,
     "metadata": {},
     "output_type": "execute_result"
    }
   ],
   "source": [
    "# Dropping data that has only one word in review\n",
    "\n",
    "drop_index = final_df.query('Review_len <=1').index\n",
    "\n",
    "final_df = final_df.loc[~final_df.index.isin(drop_index) , :]\n",
    "\n",
    "final_df.shape"
   ]
  },
  {
   "cell_type": "code",
   "execution_count": 10,
   "metadata": {
    "execution": {
     "iopub.execute_input": "2021-08-07T12:27:04.061579Z",
     "iopub.status.busy": "2021-08-07T12:27:04.061038Z",
     "iopub.status.idle": "2021-08-07T12:27:04.181660Z",
     "shell.execute_reply": "2021-08-07T12:27:04.180717Z",
     "shell.execute_reply.started": "2021-08-07T12:27:04.061543Z"
    }
   },
   "outputs": [
    {
     "name": "stdout",
     "output_type": "stream",
     "text": [
      "2    10647\n",
      "0     8714\n",
      "1     1447\n",
      "Name: Actual_Sentiment, dtype: int64\n"
     ]
    },
    {
     "data": {
      "image/png": "[encoded data removed]",
      "text/plain": [
       "<Figure size 432x288 with 1 Axes>"
      ]
     },
     "metadata": {
      "needs_background": "light"
     },
     "output_type": "display_data"
    }
   ],
   "source": [
    "final_df[\"Actual_Sentiment\"].value_counts().plot(kind=\"bar\")\n",
    "\n",
    "print(final_df[\"Actual_Sentiment\"].value_counts())\n",
    "\n",
    "# Neutral sentiment is very less, so need to perform text augmentation "
   ]
  },
  {
   "cell_type": "code",
   "execution_count": 11,
   "metadata": {
    "execution": {
     "iopub.execute_input": "2021-08-07T12:27:04.183359Z",
     "iopub.status.busy": "2021-08-07T12:27:04.182977Z",
     "iopub.status.idle": "2021-08-07T12:27:04.196930Z",
     "shell.execute_reply": "2021-08-07T12:27:04.196068Z",
     "shell.execute_reply.started": "2021-08-07T12:27:04.183323Z"
    }
   },
   "outputs": [
    {
     "data": {
      "text/html": [
       "<div>\n",
       "<style scoped>\n",
       "    .dataframe tbody tr th:only-of-type {\n",
       "        vertical-align: middle;\n",
       "    }\n",
       "\n",
       "    .dataframe tbody tr th {\n",
       "        vertical-align: top;\n",
       "    }\n",
       "\n",
       "    .dataframe thead th {\n",
       "        text-align: right;\n",
       "    }\n",
       "</style>\n",
       "<table border=\"1\" class=\"dataframe\">\n",
       "  <thead>\n",
       "    <tr style=\"text-align: right;\">\n",
       "      <th></th>\n",
       "      <th>index</th>\n",
       "      <th>Review</th>\n",
       "      <th>Actual_Sentiment</th>\n",
       "      <th>Review_id</th>\n",
       "      <th>Review_len</th>\n",
       "    </tr>\n",
       "  </thead>\n",
       "  <tbody>\n",
       "    <tr>\n",
       "      <th>3</th>\n",
       "      <td>3</td>\n",
       "      <td>Everyone is pretty helpful there especially be...</td>\n",
       "      <td>2</td>\n",
       "      <td>4</td>\n",
       "      <td>28</td>\n",
       "    </tr>\n",
       "    <tr>\n",
       "      <th>6298</th>\n",
       "      <td>6298</td>\n",
       "      <td>Full benefits, good pay, mist fans</td>\n",
       "      <td>2</td>\n",
       "      <td>4</td>\n",
       "      <td>6</td>\n",
       "    </tr>\n",
       "    <tr>\n",
       "      <th>14020</th>\n",
       "      <td>14020</td>\n",
       "      <td>The Texas heat</td>\n",
       "      <td>0</td>\n",
       "      <td>4</td>\n",
       "      <td>3</td>\n",
       "    </tr>\n",
       "  </tbody>\n",
       "</table>\n",
       "</div>"
      ],
      "text/plain": [
       "       index                                             Review  \\\n",
       "3          3  Everyone is pretty helpful there especially be...   \n",
       "6298    6298                 Full benefits, good pay, mist fans   \n",
       "14020  14020                                     The Texas heat   \n",
       "\n",
       "       Actual_Sentiment  Review_id  Review_len  \n",
       "3                     2          4          28  \n",
       "6298                  2          4           6  \n",
       "14020                 0          4           3  "
      ]
     },
     "execution_count": 11,
     "metadata": {},
     "output_type": "execute_result"
    }
   ],
   "source": [
    "final_df.loc[final_df[\"Review_id\"]==4,:]"
   ]
  },
  {
   "cell_type": "markdown",
   "metadata": {},
   "source": [
    "## Augmenting the Neutral Reviews as their count is less"
   ]
  },
  {
   "cell_type": "code",
   "execution_count": 12,
   "metadata": {
    "execution": {
     "iopub.execute_input": "2021-08-07T12:27:04.198637Z",
     "iopub.status.busy": "2021-08-07T12:27:04.198142Z",
     "iopub.status.idle": "2021-08-07T12:27:04.370060Z",
     "shell.execute_reply": "2021-08-07T12:27:04.369128Z",
     "shell.execute_reply.started": "2021-08-07T12:27:04.198602Z"
    }
   },
   "outputs": [
    {
     "data": {
      "text/plain": [
       "<AxesSubplot:ylabel='Frequency'>"
      ]
     },
     "execution_count": 12,
     "metadata": {},
     "output_type": "execute_result"
    },
    {
     "data": {
      "image/png": "[encoded data removed]",
      "text/plain": [
       "<Figure size 432x288 with 1 Axes>"
      ]
     },
     "metadata": {
      "needs_background": "light"
     },
     "output_type": "display_data"
    }
   ],
   "source": [
    "final_df.query(\"Actual_Sentiment == 1\")[\"Review_len\"].plot(kind=\"hist\",xlim=(0,200))"
   ]
  },
  {
   "cell_type": "code",
   "execution_count": 13,
   "metadata": {
    "execution": {
     "iopub.execute_input": "2021-08-07T12:27:04.371729Z",
     "iopub.status.busy": "2021-08-07T12:27:04.371385Z",
     "iopub.status.idle": "2021-08-07T12:27:12.939999Z",
     "shell.execute_reply": "2021-08-07T12:27:12.939101Z",
     "shell.execute_reply.started": "2021-08-07T12:27:04.371694Z"
    }
   },
   "outputs": [
    {
     "name": "stderr",
     "output_type": "stream",
     "text": [
      "/opt/conda/lib/python3.7/site-packages/torchaudio/backend/utils.py:54: UserWarning: \"sox\" backend is being deprecated. The default backend will be changed to \"sox_io\" backend in 0.8.0 and \"sox\" backend will be removed in 0.9.0. Please migrate to \"sox_io\" backend. Please refer to https://github.com/pytorch/audio/issues/903 for the detail.\n",
      "  '\"sox\" backend is being deprecated. '\n"
     ]
    },
    {
     "name": "stdout",
     "output_type": "stream",
     "text": [
      "\n",
      "As with all job, your experience testament depend greatly upon your manager. Ace had great, average and poor coach during my time there. I enjoyed the work and my coworkers. Their benefits bundle and employee perks be great.\n",
      "\n",
      "\n",
      "As with all jobs, your experience will depend greatly upon your handler. 1 had great, fair and poor managers during my time there. I enjoyed the work and my coworkers. Their benefits package and employee perk are keen.\n",
      "\n",
      "\n",
      "As with all jobs, your experience will depend greatly upon your manager. Ace had great, reasonable and poor managers during my time there. I enjoyed the work and my coworkers. Their benefits package and employee fringe benefit personify bang up.\n",
      "\n"
     ]
    }
   ],
   "source": [
    "import nlpaug.augmenter.word as naw\n",
    "aug = naw.SynonymAug(aug_src=\"wordnet\",aug_min=10) # Replace the words with their synonym.aug_min tells the no.of words to replace.\n",
    "\n",
    "for i in aug.augment(final_df[\"Review\"][1] , 3): # 3 represents the no,of augmented sentences we want to create.\n",
    "    print(f\"\\n{i}\\n\")"
   ]
  },
  {
   "cell_type": "code",
   "execution_count": 14,
   "metadata": {
    "execution": {
     "iopub.execute_input": "2021-08-07T12:27:12.941803Z",
     "iopub.status.busy": "2021-08-07T12:27:12.941444Z",
     "iopub.status.idle": "2021-08-07T12:27:37.572914Z",
     "shell.execute_reply": "2021-08-07T12:27:37.571806Z",
     "shell.execute_reply.started": "2021-08-07T12:27:12.941767Z"
    }
   },
   "outputs": [
    {
     "name": "stderr",
     "output_type": "stream",
     "text": [
      "/opt/conda/lib/python3.7/site-packages/pandas/core/indexing.py:1676: SettingWithCopyWarning: \n",
      "A value is trying to be set on a copy of a slice from a DataFrame.\n",
      "Try using .loc[row_indexer,col_indexer] = value instead\n",
      "\n",
      "See the caveats in the documentation: https://pandas.pydata.org/pandas-docs/stable/user_guide/indexing.html#returning-a-view-versus-a-copy\n",
      "  self._setitem_single_column(ilocs[0], value, pi)\n"
     ]
    },
    {
     "data": {
      "text/html": [
       "<div>\n",
       "<style scoped>\n",
       "    .dataframe tbody tr th:only-of-type {\n",
       "        vertical-align: middle;\n",
       "    }\n",
       "\n",
       "    .dataframe tbody tr th {\n",
       "        vertical-align: top;\n",
       "    }\n",
       "\n",
       "    .dataframe thead th {\n",
       "        text-align: right;\n",
       "    }\n",
       "</style>\n",
       "<table border=\"1\" class=\"dataframe\">\n",
       "  <thead>\n",
       "    <tr style=\"text-align: right;\">\n",
       "      <th></th>\n",
       "      <th>index</th>\n",
       "      <th>Review</th>\n",
       "      <th>Actual_Sentiment</th>\n",
       "      <th>Review_id</th>\n",
       "      <th>Review_len</th>\n",
       "    </tr>\n",
       "  </thead>\n",
       "  <tbody>\n",
       "    <tr>\n",
       "      <th>3094</th>\n",
       "      <td>3094</td>\n",
       "      <td>fast pace private enterprise place to work. Fa...</td>\n",
       "      <td>1</td>\n",
       "      <td>3095</td>\n",
       "      <td>28</td>\n",
       "    </tr>\n",
       "    <tr>\n",
       "      <th>2488</th>\n",
       "      <td>2488</td>\n",
       "      <td>Train on motorcar vary, depends mostly on the ...</td>\n",
       "      <td>1</td>\n",
       "      <td>2489</td>\n",
       "      <td>35</td>\n",
       "    </tr>\n",
       "    <tr>\n",
       "      <th>1534</th>\n",
       "      <td>1534</td>\n",
       "      <td>I learned everything on my ain. I really like ...</td>\n",
       "      <td>1</td>\n",
       "      <td>1535</td>\n",
       "      <td>45</td>\n",
       "    </tr>\n",
       "    <tr>\n",
       "      <th>508</th>\n",
       "      <td>508</td>\n",
       "      <td>Information technology a secure work place if ...</td>\n",
       "      <td>1</td>\n",
       "      <td>509</td>\n",
       "      <td>33</td>\n",
       "    </tr>\n",
       "    <tr>\n",
       "      <th>3983</th>\n",
       "      <td>3983</td>\n",
       "      <td>Domestic dog eat detent earthly concern. No ad...</td>\n",
       "      <td>1</td>\n",
       "      <td>3984</td>\n",
       "      <td>11</td>\n",
       "    </tr>\n",
       "  </tbody>\n",
       "</table>\n",
       "</div>"
      ],
      "text/plain": [
       "      index                                             Review  \\\n",
       "3094   3094  fast pace private enterprise place to work. Fa...   \n",
       "2488   2488  Train on motorcar vary, depends mostly on the ...   \n",
       "1534   1534  I learned everything on my ain. I really like ...   \n",
       "508     508  Information technology a secure work place if ...   \n",
       "3983   3983  Domestic dog eat detent earthly concern. No ad...   \n",
       "\n",
       "      Actual_Sentiment  Review_id  Review_len  \n",
       "3094                 1       3095          28  \n",
       "2488                 1       2489          35  \n",
       "1534                 1       1535          45  \n",
       "508                  1        509          33  \n",
       "3983                 1       3984          11  "
      ]
     },
     "execution_count": 14,
     "metadata": {},
     "output_type": "execute_result"
    }
   ],
   "source": [
    "def Augment_Review(df,augmenter=None,n_sentence=None,Sentiment=None):\n",
    "    temp_df = df.query(f\"Actual_Sentiment == {Sentiment}\")\n",
    "    temp_df.loc[:,\"Review\"] = temp_df.loc[:,\"Review\"].apply(lambda text : [result for result in augmenter.augment(text , n_sentence)])\n",
    "    temp_df = temp_df.explode(\"Review\")\n",
    "    return temp_df\n",
    "    \n",
    "augmented_df = Augment_Review(final_df,augmenter=aug,n_sentence=5,Sentiment=1)\n",
    "augmented_df = shuffle(augmented_df)\n",
    "augmented_df.head()"
   ]
  },
  {
   "cell_type": "code",
   "execution_count": 15,
   "metadata": {
    "execution": {
     "iopub.execute_input": "2021-08-07T12:27:37.575058Z",
     "iopub.status.busy": "2021-08-07T12:27:37.574555Z",
     "iopub.status.idle": "2021-08-07T12:27:37.600661Z",
     "shell.execute_reply": "2021-08-07T12:27:37.599715Z",
     "shell.execute_reply.started": "2021-08-07T12:27:37.575000Z"
    }
   },
   "outputs": [
    {
     "data": {
      "text/html": [
       "<div>\n",
       "<style scoped>\n",
       "    .dataframe tbody tr th:only-of-type {\n",
       "        vertical-align: middle;\n",
       "    }\n",
       "\n",
       "    .dataframe tbody tr th {\n",
       "        vertical-align: top;\n",
       "    }\n",
       "\n",
       "    .dataframe thead th {\n",
       "        text-align: right;\n",
       "    }\n",
       "</style>\n",
       "<table border=\"1\" class=\"dataframe\">\n",
       "  <thead>\n",
       "    <tr style=\"text-align: right;\">\n",
       "      <th></th>\n",
       "      <th>index</th>\n",
       "      <th>Review</th>\n",
       "      <th>Actual_Sentiment</th>\n",
       "      <th>Review_id</th>\n",
       "      <th>Review_len</th>\n",
       "    </tr>\n",
       "  </thead>\n",
       "  <tbody>\n",
       "    <tr>\n",
       "      <th>0</th>\n",
       "      <td>0</td>\n",
       "      <td>1. This company has eight hours shift round th...</td>\n",
       "      <td>2</td>\n",
       "      <td>1</td>\n",
       "      <td>58</td>\n",
       "    </tr>\n",
       "    <tr>\n",
       "      <th>1</th>\n",
       "      <td>1</td>\n",
       "      <td>As with all jobs, your experience will depend ...</td>\n",
       "      <td>2</td>\n",
       "      <td>2</td>\n",
       "      <td>38</td>\n",
       "    </tr>\n",
       "    <tr>\n",
       "      <th>2</th>\n",
       "      <td>2</td>\n",
       "      <td>Very hot and dirty working conditions very old...</td>\n",
       "      <td>2</td>\n",
       "      <td>3</td>\n",
       "      <td>30</td>\n",
       "    </tr>\n",
       "    <tr>\n",
       "      <th>3</th>\n",
       "      <td>3</td>\n",
       "      <td>Everyone is pretty helpful there especially be...</td>\n",
       "      <td>2</td>\n",
       "      <td>4</td>\n",
       "      <td>28</td>\n",
       "    </tr>\n",
       "    <tr>\n",
       "      <th>4</th>\n",
       "      <td>4</td>\n",
       "      <td>Rewarding place to work. Everyone is professio...</td>\n",
       "      <td>2</td>\n",
       "      <td>5</td>\n",
       "      <td>26</td>\n",
       "    </tr>\n",
       "    <tr>\n",
       "      <th>...</th>\n",
       "      <td>...</td>\n",
       "      <td>...</td>\n",
       "      <td>...</td>\n",
       "      <td>...</td>\n",
       "      <td>...</td>\n",
       "    </tr>\n",
       "    <tr>\n",
       "      <th>26591</th>\n",
       "      <td>5451</td>\n",
       "      <td>Company used to accept a groovy environs with ...</td>\n",
       "      <td>1</td>\n",
       "      <td>5452</td>\n",
       "      <td>43</td>\n",
       "    </tr>\n",
       "    <tr>\n",
       "      <th>26592</th>\n",
       "      <td>2300</td>\n",
       "      <td>I enjoyed the people I worked with very much. ...</td>\n",
       "      <td>1</td>\n",
       "      <td>2301</td>\n",
       "      <td>36</td>\n",
       "    </tr>\n",
       "    <tr>\n",
       "      <th>26593</th>\n",
       "      <td>2224</td>\n",
       "      <td>jolly physically demanding work, just non so m...</td>\n",
       "      <td>1</td>\n",
       "      <td>2225</td>\n",
       "      <td>32</td>\n",
       "    </tr>\n",
       "    <tr>\n",
       "      <th>26594</th>\n",
       "      <td>4601</td>\n",
       "      <td>Piece of work - life balance, Work - life bala...</td>\n",
       "      <td>1</td>\n",
       "      <td>4602</td>\n",
       "      <td>178</td>\n",
       "    </tr>\n",
       "    <tr>\n",
       "      <th>26595</th>\n",
       "      <td>2006</td>\n",
       "      <td>A lot of practiced experience from drive heavy...</td>\n",
       "      <td>1</td>\n",
       "      <td>2007</td>\n",
       "      <td>22</td>\n",
       "    </tr>\n",
       "  </tbody>\n",
       "</table>\n",
       "<p>26596 rows × 5 columns</p>\n",
       "</div>"
      ],
      "text/plain": [
       "       index                                             Review  \\\n",
       "0          0  1. This company has eight hours shift round th...   \n",
       "1          1  As with all jobs, your experience will depend ...   \n",
       "2          2  Very hot and dirty working conditions very old...   \n",
       "3          3  Everyone is pretty helpful there especially be...   \n",
       "4          4  Rewarding place to work. Everyone is professio...   \n",
       "...      ...                                                ...   \n",
       "26591   5451  Company used to accept a groovy environs with ...   \n",
       "26592   2300  I enjoyed the people I worked with very much. ...   \n",
       "26593   2224  jolly physically demanding work, just non so m...   \n",
       "26594   4601  Piece of work - life balance, Work - life bala...   \n",
       "26595   2006  A lot of practiced experience from drive heavy...   \n",
       "\n",
       "       Actual_Sentiment  Review_id  Review_len  \n",
       "0                     2          1          58  \n",
       "1                     2          2          38  \n",
       "2                     2          3          30  \n",
       "3                     2          4          28  \n",
       "4                     2          5          26  \n",
       "...                 ...        ...         ...  \n",
       "26591                 1       5452          43  \n",
       "26592                 1       2301          36  \n",
       "26593                 1       2225          32  \n",
       "26594                 1       4602         178  \n",
       "26595                 1       2007          22  \n",
       "\n",
       "[26596 rows x 5 columns]"
      ]
     },
     "execution_count": 15,
     "metadata": {},
     "output_type": "execute_result"
    }
   ],
   "source": [
    "final_df = final_df.query('Actual_Sentiment == 0 or Actual_Sentiment == 2')\n",
    "final_df = pd.concat([final_df,augmented_df] , axis=0,ignore_index=True)\n",
    "\n",
    "final_df"
   ]
  },
  {
   "cell_type": "code",
   "execution_count": 16,
   "metadata": {
    "execution": {
     "iopub.execute_input": "2021-08-07T12:27:37.602302Z",
     "iopub.status.busy": "2021-08-07T12:27:37.601937Z",
     "iopub.status.idle": "2021-08-07T12:27:37.735686Z",
     "shell.execute_reply": "2021-08-07T12:27:37.734734Z",
     "shell.execute_reply.started": "2021-08-07T12:27:37.602245Z"
    }
   },
   "outputs": [
    {
     "name": "stdout",
     "output_type": "stream",
     "text": [
      "2    0.400323\n",
      "0    0.327643\n",
      "1    0.272033\n",
      "Name: Actual_Sentiment, dtype: float64\n"
     ]
    },
    {
     "data": {
      "image/png": "[encoded data removed]",
      "text/plain": [
       "<Figure size 432x288 with 1 Axes>"
      ]
     },
     "metadata": {
      "needs_background": "light"
     },
     "output_type": "display_data"
    }
   ],
   "source": [
    "final_df[\"Actual_Sentiment\"].value_counts().plot(kind=\"bar\")\n",
    "print(final_df[\"Actual_Sentiment\"].value_counts(normalize=True))\n",
    "\n",
    "# Now the dataset looks balanced to some extent."
   ]
  },
  {
   "cell_type": "code",
   "execution_count": 17,
   "metadata": {
    "execution": {
     "iopub.execute_input": "2021-08-07T12:27:37.737509Z",
     "iopub.status.busy": "2021-08-07T12:27:37.737083Z",
     "iopub.status.idle": "2021-08-07T12:27:41.700456Z",
     "shell.execute_reply": "2021-08-07T12:27:41.699674Z",
     "shell.execute_reply.started": "2021-08-07T12:27:37.737468Z"
    }
   },
   "outputs": [
    {
     "data": {
      "application/vnd.jupyter.widget-view+json": {
       "model_id": "23946fb24f76450e9fc9a51387179ef4",
       "version_major": 2,
       "version_minor": 0
      },
      "text/plain": [
       "Downloading:   0%|          | 0.00/213k [00:00<?, ?B/s]"
      ]
     },
     "metadata": {},
     "output_type": "display_data"
    },
    {
     "data": {
      "application/vnd.jupyter.widget-view+json": {
       "model_id": "b514561f0ac245819ae79d44cf6b6b9e",
       "version_major": 2,
       "version_minor": 0
      },
      "text/plain": [
       "Downloading:   0%|          | 0.00/29.0 [00:00<?, ?B/s]"
      ]
     },
     "metadata": {},
     "output_type": "display_data"
    },
    {
     "data": {
      "application/vnd.jupyter.widget-view+json": {
       "model_id": "3afacf995f5d4826adaaf40cc6b7e5ea",
       "version_major": 2,
       "version_minor": 0
      },
      "text/plain": [
       "Downloading:   0%|          | 0.00/436k [00:00<?, ?B/s]"
      ]
     },
     "metadata": {},
     "output_type": "display_data"
    }
   ],
   "source": [
    "PRE_TRAINED_MODEL_NAME = \"bert-base-cased\"\n",
    "tokenizer = transformers.BertTokenizer.from_pretrained(PRE_TRAINED_MODEL_NAME) # BERT expect the tokens in a specific format,so we are using bert base model for it."
   ]
  },
  {
   "cell_type": "code",
   "execution_count": 18,
   "metadata": {
    "execution": {
     "iopub.execute_input": "2021-08-07T12:27:41.702078Z",
     "iopub.status.busy": "2021-08-07T12:27:41.701728Z",
     "iopub.status.idle": "2021-08-07T12:27:41.712706Z",
     "shell.execute_reply": "2021-08-07T12:27:41.711776Z",
     "shell.execute_reply.started": "2021-08-07T12:27:41.702041Z"
    }
   },
   "outputs": [
    {
     "data": {
      "text/plain": [
       "28996"
      ]
     },
     "execution_count": 18,
     "metadata": {},
     "output_type": "execute_result"
    }
   ],
   "source": [
    "len(tokenizer.get_vocab()) # So this BERT model has a vocab size of 29k. and it cannnot be changed/appended.If BERT find a word that is not in the vocab,\n",
    "#  it splits that words in the letters of different length and see if those splitted small words are present or not in the vocab .\n",
    "# So every broken word(of the main word in our text) except the first one looks like \"##letter\". If even after splitting the words, BERT doesnt find any \n",
    "# matching token , it will assign it [UNK] token ."
   ]
  },
  {
   "cell_type": "code",
   "execution_count": 19,
   "metadata": {
    "execution": {
     "iopub.execute_input": "2021-08-07T12:27:41.714425Z",
     "iopub.status.busy": "2021-08-07T12:27:41.714043Z",
     "iopub.status.idle": "2021-08-07T12:27:41.723046Z",
     "shell.execute_reply": "2021-08-07T12:27:41.722029Z",
     "shell.execute_reply.started": "2021-08-07T12:27:41.714387Z"
    }
   },
   "outputs": [
    {
     "name": "stdout",
     "output_type": "stream",
     "text": [
      "[SEP]\n",
      "102\n"
     ]
    }
   ],
   "source": [
    "print(tokenizer.sep_token)\n",
    "print(tokenizer.sep_token_id)"
   ]
  },
  {
   "cell_type": "code",
   "execution_count": 20,
   "metadata": {
    "execution": {
     "iopub.execute_input": "2021-08-07T12:27:41.725024Z",
     "iopub.status.busy": "2021-08-07T12:27:41.724670Z",
     "iopub.status.idle": "2021-08-07T12:27:41.734080Z",
     "shell.execute_reply": "2021-08-07T12:27:41.733030Z",
     "shell.execute_reply.started": "2021-08-07T12:27:41.724988Z"
    }
   },
   "outputs": [
    {
     "name": "stdout",
     "output_type": "stream",
     "text": [
      "['As', 'with', 'all', 'jobs', ',', 'your', 'experience', 'will', 'depend', 'greatly', 'upon', 'your', 'manager', '.', 'I', 'had', 'great', ',', 'fair', 'and', 'poor', 'managers', 'during', 'my', 'time', 'there', '.', 'I', 'enjoyed', 'the', 'work', 'and', 'my', 'cow', '##or', '##kers', '.', 'Their', 'benefits', 'package', 'and', 'employee', 'per', '##ks', 'are', 'great', '.']\n",
      "[1249, 1114, 1155, 5448, 117, 1240, 2541, 1209, 12864, 5958, 1852, 1240, 2618, 119, 146, 1125, 1632, 117, 4652, 1105, 2869, 11493, 1219, 1139, 1159, 1175, 119, 146, 4927, 1103, 1250, 1105, 1139, 13991, 1766, 8811, 119, 2397, 6245, 7305, 1105, 7775, 1679, 4616, 1132, 1632, 119]\n"
     ]
    }
   ],
   "source": [
    "tokens = tokenizer.tokenize(final_df[\"Review\"][1])\n",
    "print(tokens)\n",
    "print(tokenizer.convert_tokens_to_ids(tokens))"
   ]
  },
  {
   "cell_type": "code",
   "execution_count": 21,
   "metadata": {
    "execution": {
     "iopub.execute_input": "2021-08-07T12:27:41.735899Z",
     "iopub.status.busy": "2021-08-07T12:27:41.735533Z",
     "iopub.status.idle": "2021-08-07T12:27:41.747561Z",
     "shell.execute_reply": "2021-08-07T12:27:41.746628Z",
     "shell.execute_reply.started": "2021-08-07T12:27:41.735851Z"
    }
   },
   "outputs": [
    {
     "name": "stdout",
     "output_type": "stream",
     "text": [
      "['John', 'Z', '##ink', 'Co', '##mb', '##ust', '##ion', 'is', 'one', 'of', 'the', 'greatest', 'companies', 'I', 'have', 'ever', 'worked', 'for', '.', 'Great', 'management', ',', 'training', ',', 'and', 'great', 'opportunities', 'for', 'advancement', '.', 'Would', 'highly', 'recommend', '.']\n",
      "[1287, 163, 10223, 3291, 12913, 8954, 1988, 1110, 1141, 1104, 1103, 4459, 2557, 146, 1138, 1518, 1589, 1111, 119, 2038, 2635, 117, 2013, 117, 1105, 1632, 6305, 1111, 19024, 119, 5718, 3023, 18029, 119]\n"
     ]
    }
   ],
   "source": [
    "tokens = tokenizer.tokenize(final_df[\"Review\"][274])\n",
    "print(tokens)\n",
    "print(tokenizer.convert_tokens_to_ids(tokens))"
   ]
  },
  {
   "cell_type": "code",
   "execution_count": 22,
   "metadata": {
    "execution": {
     "iopub.execute_input": "2021-08-07T12:27:41.749413Z",
     "iopub.status.busy": "2021-08-07T12:27:41.748902Z",
     "iopub.status.idle": "2021-08-07T12:27:41.756412Z",
     "shell.execute_reply": "2021-08-07T12:27:41.755348Z",
     "shell.execute_reply.started": "2021-08-07T12:27:41.749379Z"
    }
   },
   "outputs": [
    {
     "name": "stdout",
     "output_type": "stream",
     "text": [
      "['Ad', '##ity', '##a', 'is', 'eating', 'apple', '.']\n",
      "[24930, 1785, 1161, 1110, 5497, 12075, 119]\n"
     ]
    }
   ],
   "source": [
    "tokens = tokenizer.tokenize(\"Aditya is eating apple.\")\n",
    "print(tokens)\n",
    "print(tokenizer.convert_tokens_to_ids(tokens))"
   ]
  },
  {
   "cell_type": "code",
   "execution_count": 23,
   "metadata": {
    "execution": {
     "iopub.execute_input": "2021-08-07T12:27:41.762278Z",
     "iopub.status.busy": "2021-08-07T12:27:41.762021Z",
     "iopub.status.idle": "2021-08-07T12:27:41.767661Z",
     "shell.execute_reply": "2021-08-07T12:27:41.766639Z",
     "shell.execute_reply.started": "2021-08-07T12:27:41.762237Z"
    }
   },
   "outputs": [
    {
     "name": "stdout",
     "output_type": "stream",
     "text": [
      "['Ad', '##ity', '##a', 'is', 'planning', 'to', 'buy', 'apple', 'laptop', '.']\n",
      "[24930, 1785, 1161, 1110, 3693, 1106, 4417, 12075, 12574, 119]\n"
     ]
    }
   ],
   "source": [
    "tokens = tokenizer.tokenize(\"Aditya is planning to buy apple laptop.\")\n",
    "print(tokens)\n",
    "print(tokenizer.convert_tokens_to_ids(tokens))\n",
    "\n",
    "# Notice that apple has the same token id."
   ]
  },
  {
   "cell_type": "code",
   "execution_count": 24,
   "metadata": {
    "execution": {
     "iopub.execute_input": "2021-08-07T12:27:41.771123Z",
     "iopub.status.busy": "2021-08-07T12:27:41.770584Z",
     "iopub.status.idle": "2021-08-07T12:27:41.782183Z",
     "shell.execute_reply": "2021-08-07T12:27:41.780973Z",
     "shell.execute_reply.started": "2021-08-07T12:27:41.770984Z"
    }
   },
   "outputs": [
    {
     "data": {
      "text/plain": [
       "True"
      ]
     },
     "execution_count": 24,
     "metadata": {},
     "output_type": "execute_result"
    }
   ],
   "source": [
    "\"##ity\" in tokenizer.get_vocab()"
   ]
  },
  {
   "cell_type": "code",
   "execution_count": 25,
   "metadata": {
    "execution": {
     "iopub.execute_input": "2021-08-07T12:27:41.784400Z",
     "iopub.status.busy": "2021-08-07T12:27:41.783952Z",
     "iopub.status.idle": "2021-08-07T12:27:41.793794Z",
     "shell.execute_reply": "2021-08-07T12:27:41.792727Z",
     "shell.execute_reply.started": "2021-08-07T12:27:41.784364Z"
    }
   },
   "outputs": [
    {
     "data": {
      "text/plain": [
       "dict_keys(['input_ids', 'attention_mask'])"
      ]
     },
     "execution_count": 25,
     "metadata": {},
     "output_type": "execute_result"
    }
   ],
   "source": [
    "# max_length has to be decided based on the len of sentences we have in our corpus and is critical because we dont want lot of padding (0) and \n",
    "# also increasing max_length increases the training time.\n",
    "\n",
    "encoding = tokenizer.encode_plus(final_df[\"Review\"][1],max_length=100,add_special_tokens=True,padding='max_length',\n",
    "                                 truncation=True,return_attention_mask=True,return_token_type_ids=False,return_tensors=\"pt\")\n",
    "\n",
    "encoding.keys()"
   ]
  },
  {
   "cell_type": "code",
   "execution_count": 26,
   "metadata": {
    "execution": {
     "iopub.execute_input": "2021-08-07T12:27:41.796115Z",
     "iopub.status.busy": "2021-08-07T12:27:41.795482Z",
     "iopub.status.idle": "2021-08-07T12:27:41.817938Z",
     "shell.execute_reply": "2021-08-07T12:27:41.816847Z",
     "shell.execute_reply.started": "2021-08-07T12:27:41.796076Z"
    }
   },
   "outputs": [
    {
     "data": {
      "text/plain": [
       "tensor([[  101,  1249,  1114,  1155,  5448,   117,  1240,  2541,  1209, 12864,\n",
       "          5958,  1852,  1240,  2618,   119,   146,  1125,  1632,   117,  4652,\n",
       "          1105,  2869, 11493,  1219,  1139,  1159,  1175,   119,   146,  4927,\n",
       "          1103,  1250,  1105,  1139, 13991,  1766,  8811,   119,  2397,  6245,\n",
       "          7305,  1105,  7775,  1679,  4616,  1132,  1632,   119,   102,     0,\n",
       "             0,     0,     0,     0,     0,     0,     0,     0,     0,     0,\n",
       "             0,     0,     0,     0,     0,     0,     0,     0,     0,     0,\n",
       "             0,     0,     0,     0,     0,     0,     0,     0,     0,     0,\n",
       "             0,     0,     0,     0,     0,     0,     0,     0,     0,     0,\n",
       "             0,     0,     0,     0,     0,     0,     0,     0,     0,     0]])"
      ]
     },
     "execution_count": 26,
     "metadata": {},
     "output_type": "execute_result"
    }
   ],
   "source": [
    "encoding[\"input_ids\"] # 0 means padded to make the tensor of constant length of max_length.\n",
    "# We can notice that the tensor starts with 101 which is token id for [CLS] token telling BERT that this is a classification problem.\n",
    "# We also have 102 in the end , which is token id for [SEP]."
   ]
  },
  {
   "cell_type": "code",
   "execution_count": 27,
   "metadata": {
    "execution": {
     "iopub.execute_input": "2021-08-07T12:27:41.819546Z",
     "iopub.status.busy": "2021-08-07T12:27:41.819176Z",
     "iopub.status.idle": "2021-08-07T12:27:41.827503Z",
     "shell.execute_reply": "2021-08-07T12:27:41.826326Z",
     "shell.execute_reply.started": "2021-08-07T12:27:41.819513Z"
    }
   },
   "outputs": [
    {
     "data": {
      "text/plain": [
       "tensor([[1, 1, 1, 1, 1, 1, 1, 1, 1, 1, 1, 1, 1, 1, 1, 1, 1, 1, 1, 1, 1, 1, 1, 1,\n",
       "         1, 1, 1, 1, 1, 1, 1, 1, 1, 1, 1, 1, 1, 1, 1, 1, 1, 1, 1, 1, 1, 1, 1, 1,\n",
       "         1, 0, 0, 0, 0, 0, 0, 0, 0, 0, 0, 0, 0, 0, 0, 0, 0, 0, 0, 0, 0, 0, 0, 0,\n",
       "         0, 0, 0, 0, 0, 0, 0, 0, 0, 0, 0, 0, 0, 0, 0, 0, 0, 0, 0, 0, 0, 0, 0, 0,\n",
       "         0, 0, 0, 0]])"
      ]
     },
     "execution_count": 27,
     "metadata": {},
     "output_type": "execute_result"
    }
   ],
   "source": [
    "encoding[\"attention_mask\"] # It is 1 where actual tokens are there and 0 where padding is present."
   ]
  },
  {
   "cell_type": "code",
   "execution_count": 28,
   "metadata": {
    "execution": {
     "iopub.execute_input": "2021-08-07T12:27:41.829474Z",
     "iopub.status.busy": "2021-08-07T12:27:41.829010Z",
     "iopub.status.idle": "2021-08-07T12:27:41.836054Z",
     "shell.execute_reply": "2021-08-07T12:27:41.834935Z",
     "shell.execute_reply.started": "2021-08-07T12:27:41.829438Z"
    }
   },
   "outputs": [
    {
     "name": "stdout",
     "output_type": "stream",
     "text": [
      "['[CLS]', 'As', 'with', 'all', 'jobs', ',', 'your', 'experience', 'will', 'depend', 'greatly', 'upon', 'your', 'manager', '.', 'I', 'had', 'great', ',', 'fair', 'and', 'poor', 'managers', 'during', 'my', 'time', 'there', '.', 'I', 'enjoyed', 'the', 'work', 'and', 'my', 'cow', '##or', '##kers', '.', 'Their', 'benefits', 'package', 'and', 'employee', 'per', '##ks', 'are', 'great', '.', '[SEP]', '[PAD]', '[PAD]', '[PAD]', '[PAD]', '[PAD]', '[PAD]', '[PAD]', '[PAD]', '[PAD]', '[PAD]', '[PAD]', '[PAD]', '[PAD]', '[PAD]', '[PAD]', '[PAD]', '[PAD]', '[PAD]', '[PAD]', '[PAD]', '[PAD]', '[PAD]', '[PAD]', '[PAD]', '[PAD]', '[PAD]', '[PAD]', '[PAD]', '[PAD]', '[PAD]', '[PAD]', '[PAD]', '[PAD]', '[PAD]', '[PAD]', '[PAD]', '[PAD]', '[PAD]', '[PAD]', '[PAD]', '[PAD]', '[PAD]', '[PAD]', '[PAD]', '[PAD]', '[PAD]', '[PAD]', '[PAD]', '[PAD]', '[PAD]', '[PAD]']\n"
     ]
    }
   ],
   "source": [
    "print(tokenizer.convert_ids_to_tokens(encoding[\"input_ids\"][0]))"
   ]
  },
  {
   "cell_type": "markdown",
   "metadata": {},
   "source": [
    "## Creating DataLoader using pytorch for BERT model"
   ]
  },
  {
   "cell_type": "code",
   "execution_count": 29,
   "metadata": {
    "execution": {
     "iopub.execute_input": "2021-08-07T12:27:41.838371Z",
     "iopub.status.busy": "2021-08-07T12:27:41.837882Z",
     "iopub.status.idle": "2021-08-07T12:27:41.855637Z",
     "shell.execute_reply": "2021-08-07T12:27:41.854713Z",
     "shell.execute_reply.started": "2021-08-07T12:27:41.838337Z"
    }
   },
   "outputs": [],
   "source": [
    "class ReviewDataset(data.Dataset):\n",
    "    \n",
    "    def __init__(self,reviews_text,targets,tokenizer,max_len):\n",
    "        self.reviews_text = reviews_text # It is a numpy array of reviews text(what we get by using df[\"Review\"].values).\n",
    "#         So remember this an array of reviews and not a single review.\n",
    "        self.targets = targets # Numpy array of targets i.e 1,2 and 3 in our case\n",
    "        self.tokenizer = tokenizer\n",
    "        self.max_len = max_len\n",
    "        \n",
    "    def __len__(self):\n",
    "        return self.reviews_text.shape[0]\n",
    "    \n",
    "    def __getitem__(self,idx):\n",
    "        \n",
    "        encoding = self.tokenizer.encode_plus(self.reviews_text[idx],max_length=self.max_len,add_special_tokens=True,truncation=True,\n",
    "                                         padding='max_length',return_attention_mask=True,return_token_type_ids=False,return_tensors=\"pt\")\n",
    "        return {\n",
    "            \"review_text\" : self.reviews_text[idx],\n",
    "            \"x\" : encoding[\"input_ids\"].flatten(),\n",
    "            \"y\": torch.tensor(self.targets[idx],dtype=torch.long),\n",
    "            \"attention_mask\": encoding['attention_mask'].flatten()\n",
    "        }\n",
    "    \n",
    "# Note : All of these 3 above defined methods are compulsory for Dataset class to work."
   ]
  },
  {
   "cell_type": "code",
   "execution_count": 30,
   "metadata": {
    "execution": {
     "iopub.execute_input": "2021-08-07T12:27:41.857797Z",
     "iopub.status.busy": "2021-08-07T12:27:41.857236Z",
     "iopub.status.idle": "2021-08-07T12:27:41.893082Z",
     "shell.execute_reply": "2021-08-07T12:27:41.892338Z",
     "shell.execute_reply.started": "2021-08-07T12:27:41.857756Z"
    }
   },
   "outputs": [],
   "source": [
    "df_train , df_test = train_test_split(final_df,test_size=0.3,random_state=101,stratify=final_df[\"Actual_Sentiment\"])\n",
    "df_val , df_test = train_test_split(df_test,test_size=0.5,random_state=101)"
   ]
  },
  {
   "cell_type": "code",
   "execution_count": 31,
   "metadata": {
    "execution": {
     "iopub.execute_input": "2021-08-07T12:27:41.894587Z",
     "iopub.status.busy": "2021-08-07T12:27:41.894224Z",
     "iopub.status.idle": "2021-08-07T12:27:41.900035Z",
     "shell.execute_reply": "2021-08-07T12:27:41.899079Z",
     "shell.execute_reply.started": "2021-08-07T12:27:41.894551Z"
    }
   },
   "outputs": [
    {
     "data": {
      "text/plain": [
       "(18617, 5)"
      ]
     },
     "execution_count": 31,
     "metadata": {},
     "output_type": "execute_result"
    }
   ],
   "source": [
    "df_train.shape"
   ]
  },
  {
   "cell_type": "code",
   "execution_count": 32,
   "metadata": {
    "execution": {
     "iopub.execute_input": "2021-08-07T12:27:41.901916Z",
     "iopub.status.busy": "2021-08-07T12:27:41.901382Z",
     "iopub.status.idle": "2021-08-07T12:27:41.913641Z",
     "shell.execute_reply": "2021-08-07T12:27:41.912755Z",
     "shell.execute_reply.started": "2021-08-07T12:27:41.901877Z"
    }
   },
   "outputs": [
    {
     "name": "stdout",
     "output_type": "stream",
     "text": [
      "2    0.400333\n",
      "0    0.327658\n",
      "1    0.272009\n",
      "Name: Actual_Sentiment, dtype: float64\n",
      "2    0.411779\n",
      "0    0.319048\n",
      "1    0.269173\n",
      "Name: Actual_Sentiment, dtype: float64\n"
     ]
    }
   ],
   "source": [
    "print(df_train[\"Actual_Sentiment\"].value_counts(normalize=True))\n",
    "print(df_test[\"Actual_Sentiment\"].value_counts(normalize=True))"
   ]
  },
  {
   "cell_type": "code",
   "execution_count": 33,
   "metadata": {
    "execution": {
     "iopub.execute_input": "2021-08-07T12:27:41.915386Z",
     "iopub.status.busy": "2021-08-07T12:27:41.914955Z",
     "iopub.status.idle": "2021-08-07T12:27:41.921008Z",
     "shell.execute_reply": "2021-08-07T12:27:41.919949Z",
     "shell.execute_reply.started": "2021-08-07T12:27:41.915333Z"
    }
   },
   "outputs": [],
   "source": [
    "def create_DataLoader(df,tokenizer,max_len,batch_size):\n",
    "    \n",
    "    dataset = ReviewDataset(reviews_text = df[\"Review\"].to_numpy(),targets=df[\"Actual_Sentiment\"].to_numpy(),\n",
    "                       tokenizer=tokenizer,max_len=max_len)\n",
    "    \n",
    "    return data.DataLoader(dataset,batch_size=batch_size,num_workers=4) \n",
    "    "
   ]
  },
  {
   "cell_type": "code",
   "execution_count": 34,
   "metadata": {
    "execution": {
     "iopub.execute_input": "2021-08-07T12:27:41.923180Z",
     "iopub.status.busy": "2021-08-07T12:27:41.922579Z",
     "iopub.status.idle": "2021-08-07T12:27:41.930009Z",
     "shell.execute_reply": "2021-08-07T12:27:41.928797Z",
     "shell.execute_reply.started": "2021-08-07T12:27:41.923142Z"
    }
   },
   "outputs": [],
   "source": [
    "MAX_LEN = 100\n",
    "BATCH_SIZE = 16 # No.of data input per step\n",
    "EPOCHS = 4 # No.of times we want to train on all data.(step = epoch/batch_size)"
   ]
  },
  {
   "cell_type": "code",
   "execution_count": 35,
   "metadata": {
    "execution": {
     "iopub.execute_input": "2021-08-07T12:27:41.932134Z",
     "iopub.status.busy": "2021-08-07T12:27:41.931457Z",
     "iopub.status.idle": "2021-08-07T12:27:41.938449Z",
     "shell.execute_reply": "2021-08-07T12:27:41.937053Z",
     "shell.execute_reply.started": "2021-08-07T12:27:41.932096Z"
    }
   },
   "outputs": [],
   "source": [
    "train_DataLoader = create_DataLoader(df_train,tokenizer ,MAX_LEN, BATCH_SIZE)\n",
    "test_DataLoader = create_DataLoader(df_test,tokenizer, MAX_LEN, BATCH_SIZE)\n",
    "val_DataLoader = create_DataLoader(df_val,tokenizer, MAX_LEN, BATCH_SIZE)"
   ]
  },
  {
   "cell_type": "code",
   "execution_count": 36,
   "metadata": {
    "execution": {
     "iopub.execute_input": "2021-08-07T12:27:41.940721Z",
     "iopub.status.busy": "2021-08-07T12:27:41.940243Z",
     "iopub.status.idle": "2021-08-07T12:27:41.950445Z",
     "shell.execute_reply": "2021-08-07T12:27:41.949318Z",
     "shell.execute_reply.started": "2021-08-07T12:27:41.940683Z"
    }
   },
   "outputs": [
    {
     "data": {
      "text/plain": [
       "<torch.utils.data.dataloader.DataLoader at 0x7fc38a2109d0>"
      ]
     },
     "execution_count": 36,
     "metadata": {},
     "output_type": "execute_result"
    }
   ],
   "source": [
    "train_DataLoader"
   ]
  },
  {
   "cell_type": "code",
   "execution_count": 37,
   "metadata": {
    "execution": {
     "iopub.execute_input": "2021-08-07T12:27:41.953915Z",
     "iopub.status.busy": "2021-08-07T12:27:41.953549Z",
     "iopub.status.idle": "2021-08-07T12:27:42.192047Z",
     "shell.execute_reply": "2021-08-07T12:27:42.191007Z",
     "shell.execute_reply.started": "2021-08-07T12:27:41.953868Z"
    }
   },
   "outputs": [
    {
     "name": "stdout",
     "output_type": "stream",
     "text": [
      "{'review_text': ['Horrible management, the MBM philosophy they used was a joke. They bent it to their needs, not utilizing it as it was designed.', 'good pay and benefits plus avenues for growth. Many locations all over the US for transfer. Stable company. ', 'Koch bought GP in the spring of 2006. Immediately we all went through MBM Training . MBM teaches integrity, humility, respect, fulfillment, etc. Senior management does not practice this in my division. Commitment and dedication make no differerence whatsoever. I got a very raw deal in the end. If you are 50+, make a decent salary, and have 15+ years of seniority, you had better be looking for a job. No bonuses since the Koch acquisition. No raises since the Koch acquisition. ', 'Perform your job duties and report any findings to supervisor. Worked with good people, upper management was disconnected from management at the terminal level. Upper management preached working philosophy to us, but never practiced it themselves.', 'It was kind of strict there, and Ace felt anxious a lot. But most of the the great unwashed there were comme il faut to work with. The work live fairly gentle, and in that location wasnt really any tight schedules.', 'Decent pay, As much overtime as you want', 'Union Shop class w / handler gainsay for leadership focusing having to walk delicately and not overstep jointure regulating. Employee ofttimes hide bad work ethic and inconsistent punctuality behind the safety of the Union..', 'Work environment is friendly, MBM culture can help to improve yourself, Benefit is good. ', 'air condition', 'Ambiente bom de se trabalhar', 'Good company with good benefits. The work is fast paced and easy. Work life balance is not good. Overtime is mandatory most of the time. Overall srg is a good company to work for.', 'long drive, Far from home ', 'I worked at Flint Hills Resources for nearly 15 years, and felt that the only limiting factor in my advancement was my desire. The company treated its employees well, they have good benefits, and their focus on safety is absolutely necessary.', 'Lazy employees made me not want to be there', 'you had to teach your self the chore and ticker for your own safety around early worker cause no one care bout you at that place management will not respond no question at all', 'Monitor day to day output signal. hourly, Line arrangement quintet requirements. , Arrange work force schedule. , Execute as per plan. , Balance materials from in to out. (SAP organization )'], 'x': tensor([[  101,  9800, 27788,  ...,     0,     0,     0],\n",
      "        [  101,  1363,  2653,  ...,     0,     0,     0],\n",
      "        [  101, 16165,  3306,  ...,  6992,  1279,   102],\n",
      "        ...,\n",
      "        [  101,  2001,  6482,  ...,     0,     0,     0],\n",
      "        [  101,  1128,  1125,  ...,     0,     0,     0],\n",
      "        [  101, 24803,  1285,  ...,     0,     0,     0]]), 'y': tensor([0, 2, 0, 2, 1, 2, 1, 2, 2, 2, 2, 0, 2, 0, 1, 1]), 'attention_mask': tensor([[1, 1, 1,  ..., 0, 0, 0],\n",
      "        [1, 1, 1,  ..., 0, 0, 0],\n",
      "        [1, 1, 1,  ..., 1, 1, 1],\n",
      "        ...,\n",
      "        [1, 1, 1,  ..., 0, 0, 0],\n",
      "        [1, 1, 1,  ..., 0, 0, 0],\n",
      "        [1, 1, 1,  ..., 0, 0, 0]])}\n"
     ]
    }
   ],
   "source": [
    "for i in train_DataLoader:\n",
    "    print(i)\n",
    "    break\n",
    "    \n",
    "# If we see the below result,we have x,y and attention_mask as output in batch size=BATCH_SIZE and is in tensor format which is required by pytorch.\n",
    "# Also note that y has 1,2 and 3 in the same ratio as we have in our dataset.So we can say our dataloader creation was correct and when we train our model,\n",
    "# model will see reviews from all classes in each step and will not be bias towards a specific class."
   ]
  },
  {
   "cell_type": "code",
   "execution_count": 38,
   "metadata": {
    "execution": {
     "iopub.execute_input": "2021-08-07T12:27:42.194283Z",
     "iopub.status.busy": "2021-08-07T12:27:42.193700Z",
     "iopub.status.idle": "2021-08-07T12:27:42.365958Z",
     "shell.execute_reply": "2021-08-07T12:27:42.365048Z",
     "shell.execute_reply.started": "2021-08-07T12:27:42.194228Z"
    }
   },
   "outputs": [
    {
     "name": "stdout",
     "output_type": "stream",
     "text": [
      "torch.Size([16, 100])\n",
      "torch.Size([16])\n",
      "torch.Size([16, 100])\n"
     ]
    }
   ],
   "source": [
    "for data in train_DataLoader:\n",
    "    print(data['x'].shape)\n",
    "    print(data[\"y\"].shape)\n",
    "    print(data[\"attention_mask\"].shape)\n",
    "    break"
   ]
  },
  {
   "cell_type": "markdown",
   "metadata": {},
   "source": [
    "## Building BERT Model"
   ]
  },
  {
   "cell_type": "code",
   "execution_count": 39,
   "metadata": {
    "execution": {
     "iopub.execute_input": "2021-08-07T12:27:42.368572Z",
     "iopub.status.busy": "2021-08-07T12:27:42.368251Z",
     "iopub.status.idle": "2021-08-07T12:27:55.994370Z",
     "shell.execute_reply": "2021-08-07T12:27:55.993272Z",
     "shell.execute_reply.started": "2021-08-07T12:27:42.368542Z"
    }
   },
   "outputs": [
    {
     "data": {
      "application/vnd.jupyter.widget-view+json": {
       "model_id": "527cae0314ed46c9b873658d603214d6",
       "version_major": 2,
       "version_minor": 0
      },
      "text/plain": [
       "Downloading:   0%|          | 0.00/570 [00:00<?, ?B/s]"
      ]
     },
     "metadata": {},
     "output_type": "display_data"
    },
    {
     "data": {
      "application/vnd.jupyter.widget-view+json": {
       "model_id": "7907de67b6da4c22ba72c1cd3afa5c09",
       "version_major": 2,
       "version_minor": 0
      },
      "text/plain": [
       "Downloading:   0%|          | 0.00/436M [00:00<?, ?B/s]"
      ]
     },
     "metadata": {},
     "output_type": "display_data"
    },
    {
     "name": "stderr",
     "output_type": "stream",
     "text": [
      "Some weights of the model checkpoint at bert-base-cased were not used when initializing BertModel: ['cls.predictions.transform.dense.weight', 'cls.predictions.bias', 'cls.predictions.transform.dense.bias', 'cls.seq_relationship.bias', 'cls.predictions.decoder.weight', 'cls.seq_relationship.weight', 'cls.predictions.transform.LayerNorm.weight', 'cls.predictions.transform.LayerNorm.bias']\n",
      "- This IS expected if you are initializing BertModel from the checkpoint of a model trained on another task or with another architecture (e.g. initializing a BertForSequenceClassification model from a BertForPreTraining model).\n",
      "- This IS NOT expected if you are initializing BertModel from the checkpoint of a model that you expect to be exactly identical (initializing a BertForSequenceClassification model from a BertForSequenceClassification model).\n"
     ]
    }
   ],
   "source": [
    "bert_model = transformers.BertModel.from_pretrained(PRE_TRAINED_MODEL_NAME)"
   ]
  },
  {
   "cell_type": "code",
   "execution_count": 40,
   "metadata": {
    "execution": {
     "iopub.execute_input": "2021-08-07T12:27:55.996344Z",
     "iopub.status.busy": "2021-08-07T12:27:55.995940Z",
     "iopub.status.idle": "2021-08-07T12:27:56.005917Z",
     "shell.execute_reply": "2021-08-07T12:27:56.004934Z",
     "shell.execute_reply.started": "2021-08-07T12:27:55.996304Z"
    }
   },
   "outputs": [
    {
     "data": {
      "text/plain": [
       "BertModel(\n",
       "  (embeddings): BertEmbeddings(\n",
       "    (word_embeddings): Embedding(28996, 768, padding_idx=0)\n",
       "    (position_embeddings): Embedding(512, 768)\n",
       "    (token_type_embeddings): Embedding(2, 768)\n",
       "    (LayerNorm): LayerNorm((768,), eps=1e-12, elementwise_affine=True)\n",
       "    (dropout): Dropout(p=0.1, inplace=False)\n",
       "  )\n",
       "  (encoder): BertEncoder(\n",
       "    (layer): ModuleList(\n",
       "      (0): BertLayer(\n",
       "        (attention): BertAttention(\n",
       "          (self): BertSelfAttention(\n",
       "            (query): Linear(in_features=768, out_features=768, bias=True)\n",
       "            (key): Linear(in_features=768, out_features=768, bias=True)\n",
       "            (value): Linear(in_features=768, out_features=768, bias=True)\n",
       "            (dropout): Dropout(p=0.1, inplace=False)\n",
       "          )\n",
       "          (output): BertSelfOutput(\n",
       "            (dense): Linear(in_features=768, out_features=768, bias=True)\n",
       "            (LayerNorm): LayerNorm((768,), eps=1e-12, elementwise_affine=True)\n",
       "            (dropout): Dropout(p=0.1, inplace=False)\n",
       "          )\n",
       "        )\n",
       "        (intermediate): BertIntermediate(\n",
       "          (dense): Linear(in_features=768, out_features=3072, bias=True)\n",
       "        )\n",
       "        (output): BertOutput(\n",
       "          (dense): Linear(in_features=3072, out_features=768, bias=True)\n",
       "          (LayerNorm): LayerNorm((768,), eps=1e-12, elementwise_affine=True)\n",
       "          (dropout): Dropout(p=0.1, inplace=False)\n",
       "        )\n",
       "      )\n",
       "      (1): BertLayer(\n",
       "        (attention): BertAttention(\n",
       "          (self): BertSelfAttention(\n",
       "            (query): Linear(in_features=768, out_features=768, bias=True)\n",
       "            (key): Linear(in_features=768, out_features=768, bias=True)\n",
       "            (value): Linear(in_features=768, out_features=768, bias=True)\n",
       "            (dropout): Dropout(p=0.1, inplace=False)\n",
       "          )\n",
       "          (output): BertSelfOutput(\n",
       "            (dense): Linear(in_features=768, out_features=768, bias=True)\n",
       "            (LayerNorm): LayerNorm((768,), eps=1e-12, elementwise_affine=True)\n",
       "            (dropout): Dropout(p=0.1, inplace=False)\n",
       "          )\n",
       "        )\n",
       "        (intermediate): BertIntermediate(\n",
       "          (dense): Linear(in_features=768, out_features=3072, bias=True)\n",
       "        )\n",
       "        (output): BertOutput(\n",
       "          (dense): Linear(in_features=3072, out_features=768, bias=True)\n",
       "          (LayerNorm): LayerNorm((768,), eps=1e-12, elementwise_affine=True)\n",
       "          (dropout): Dropout(p=0.1, inplace=False)\n",
       "        )\n",
       "      )\n",
       "      (2): BertLayer(\n",
       "        (attention): BertAttention(\n",
       "          (self): BertSelfAttention(\n",
       "            (query): Linear(in_features=768, out_features=768, bias=True)\n",
       "            (key): Linear(in_features=768, out_features=768, bias=True)\n",
       "            (value): Linear(in_features=768, out_features=768, bias=True)\n",
       "            (dropout): Dropout(p=0.1, inplace=False)\n",
       "          )\n",
       "          (output): BertSelfOutput(\n",
       "            (dense): Linear(in_features=768, out_features=768, bias=True)\n",
       "            (LayerNorm): LayerNorm((768,), eps=1e-12, elementwise_affine=True)\n",
       "            (dropout): Dropout(p=0.1, inplace=False)\n",
       "          )\n",
       "        )\n",
       "        (intermediate): BertIntermediate(\n",
       "          (dense): Linear(in_features=768, out_features=3072, bias=True)\n",
       "        )\n",
       "        (output): BertOutput(\n",
       "          (dense): Linear(in_features=3072, out_features=768, bias=True)\n",
       "          (LayerNorm): LayerNorm((768,), eps=1e-12, elementwise_affine=True)\n",
       "          (dropout): Dropout(p=0.1, inplace=False)\n",
       "        )\n",
       "      )\n",
       "      (3): BertLayer(\n",
       "        (attention): BertAttention(\n",
       "          (self): BertSelfAttention(\n",
       "            (query): Linear(in_features=768, out_features=768, bias=True)\n",
       "            (key): Linear(in_features=768, out_features=768, bias=True)\n",
       "            (value): Linear(in_features=768, out_features=768, bias=True)\n",
       "            (dropout): Dropout(p=0.1, inplace=False)\n",
       "          )\n",
       "          (output): BertSelfOutput(\n",
       "            (dense): Linear(in_features=768, out_features=768, bias=True)\n",
       "            (LayerNorm): LayerNorm((768,), eps=1e-12, elementwise_affine=True)\n",
       "            (dropout): Dropout(p=0.1, inplace=False)\n",
       "          )\n",
       "        )\n",
       "        (intermediate): BertIntermediate(\n",
       "          (dense): Linear(in_features=768, out_features=3072, bias=True)\n",
       "        )\n",
       "        (output): BertOutput(\n",
       "          (dense): Linear(in_features=3072, out_features=768, bias=True)\n",
       "          (LayerNorm): LayerNorm((768,), eps=1e-12, elementwise_affine=True)\n",
       "          (dropout): Dropout(p=0.1, inplace=False)\n",
       "        )\n",
       "      )\n",
       "      (4): BertLayer(\n",
       "        (attention): BertAttention(\n",
       "          (self): BertSelfAttention(\n",
       "            (query): Linear(in_features=768, out_features=768, bias=True)\n",
       "            (key): Linear(in_features=768, out_features=768, bias=True)\n",
       "            (value): Linear(in_features=768, out_features=768, bias=True)\n",
       "            (dropout): Dropout(p=0.1, inplace=False)\n",
       "          )\n",
       "          (output): BertSelfOutput(\n",
       "            (dense): Linear(in_features=768, out_features=768, bias=True)\n",
       "            (LayerNorm): LayerNorm((768,), eps=1e-12, elementwise_affine=True)\n",
       "            (dropout): Dropout(p=0.1, inplace=False)\n",
       "          )\n",
       "        )\n",
       "        (intermediate): BertIntermediate(\n",
       "          (dense): Linear(in_features=768, out_features=3072, bias=True)\n",
       "        )\n",
       "        (output): BertOutput(\n",
       "          (dense): Linear(in_features=3072, out_features=768, bias=True)\n",
       "          (LayerNorm): LayerNorm((768,), eps=1e-12, elementwise_affine=True)\n",
       "          (dropout): Dropout(p=0.1, inplace=False)\n",
       "        )\n",
       "      )\n",
       "      (5): BertLayer(\n",
       "        (attention): BertAttention(\n",
       "          (self): BertSelfAttention(\n",
       "            (query): Linear(in_features=768, out_features=768, bias=True)\n",
       "            (key): Linear(in_features=768, out_features=768, bias=True)\n",
       "            (value): Linear(in_features=768, out_features=768, bias=True)\n",
       "            (dropout): Dropout(p=0.1, inplace=False)\n",
       "          )\n",
       "          (output): BertSelfOutput(\n",
       "            (dense): Linear(in_features=768, out_features=768, bias=True)\n",
       "            (LayerNorm): LayerNorm((768,), eps=1e-12, elementwise_affine=True)\n",
       "            (dropout): Dropout(p=0.1, inplace=False)\n",
       "          )\n",
       "        )\n",
       "        (intermediate): BertIntermediate(\n",
       "          (dense): Linear(in_features=768, out_features=3072, bias=True)\n",
       "        )\n",
       "        (output): BertOutput(\n",
       "          (dense): Linear(in_features=3072, out_features=768, bias=True)\n",
       "          (LayerNorm): LayerNorm((768,), eps=1e-12, elementwise_affine=True)\n",
       "          (dropout): Dropout(p=0.1, inplace=False)\n",
       "        )\n",
       "      )\n",
       "      (6): BertLayer(\n",
       "        (attention): BertAttention(\n",
       "          (self): BertSelfAttention(\n",
       "            (query): Linear(in_features=768, out_features=768, bias=True)\n",
       "            (key): Linear(in_features=768, out_features=768, bias=True)\n",
       "            (value): Linear(in_features=768, out_features=768, bias=True)\n",
       "            (dropout): Dropout(p=0.1, inplace=False)\n",
       "          )\n",
       "          (output): BertSelfOutput(\n",
       "            (dense): Linear(in_features=768, out_features=768, bias=True)\n",
       "            (LayerNorm): LayerNorm((768,), eps=1e-12, elementwise_affine=True)\n",
       "            (dropout): Dropout(p=0.1, inplace=False)\n",
       "          )\n",
       "        )\n",
       "        (intermediate): BertIntermediate(\n",
       "          (dense): Linear(in_features=768, out_features=3072, bias=True)\n",
       "        )\n",
       "        (output): BertOutput(\n",
       "          (dense): Linear(in_features=3072, out_features=768, bias=True)\n",
       "          (LayerNorm): LayerNorm((768,), eps=1e-12, elementwise_affine=True)\n",
       "          (dropout): Dropout(p=0.1, inplace=False)\n",
       "        )\n",
       "      )\n",
       "      (7): BertLayer(\n",
       "        (attention): BertAttention(\n",
       "          (self): BertSelfAttention(\n",
       "            (query): Linear(in_features=768, out_features=768, bias=True)\n",
       "            (key): Linear(in_features=768, out_features=768, bias=True)\n",
       "            (value): Linear(in_features=768, out_features=768, bias=True)\n",
       "            (dropout): Dropout(p=0.1, inplace=False)\n",
       "          )\n",
       "          (output): BertSelfOutput(\n",
       "            (dense): Linear(in_features=768, out_features=768, bias=True)\n",
       "            (LayerNorm): LayerNorm((768,), eps=1e-12, elementwise_affine=True)\n",
       "            (dropout): Dropout(p=0.1, inplace=False)\n",
       "          )\n",
       "        )\n",
       "        (intermediate): BertIntermediate(\n",
       "          (dense): Linear(in_features=768, out_features=3072, bias=True)\n",
       "        )\n",
       "        (output): BertOutput(\n",
       "          (dense): Linear(in_features=3072, out_features=768, bias=True)\n",
       "          (LayerNorm): LayerNorm((768,), eps=1e-12, elementwise_affine=True)\n",
       "          (dropout): Dropout(p=0.1, inplace=False)\n",
       "        )\n",
       "      )\n",
       "      (8): BertLayer(\n",
       "        (attention): BertAttention(\n",
       "          (self): BertSelfAttention(\n",
       "            (query): Linear(in_features=768, out_features=768, bias=True)\n",
       "            (key): Linear(in_features=768, out_features=768, bias=True)\n",
       "            (value): Linear(in_features=768, out_features=768, bias=True)\n",
       "            (dropout): Dropout(p=0.1, inplace=False)\n",
       "          )\n",
       "          (output): BertSelfOutput(\n",
       "            (dense): Linear(in_features=768, out_features=768, bias=True)\n",
       "            (LayerNorm): LayerNorm((768,), eps=1e-12, elementwise_affine=True)\n",
       "            (dropout): Dropout(p=0.1, inplace=False)\n",
       "          )\n",
       "        )\n",
       "        (intermediate): BertIntermediate(\n",
       "          (dense): Linear(in_features=768, out_features=3072, bias=True)\n",
       "        )\n",
       "        (output): BertOutput(\n",
       "          (dense): Linear(in_features=3072, out_features=768, bias=True)\n",
       "          (LayerNorm): LayerNorm((768,), eps=1e-12, elementwise_affine=True)\n",
       "          (dropout): Dropout(p=0.1, inplace=False)\n",
       "        )\n",
       "      )\n",
       "      (9): BertLayer(\n",
       "        (attention): BertAttention(\n",
       "          (self): BertSelfAttention(\n",
       "            (query): Linear(in_features=768, out_features=768, bias=True)\n",
       "            (key): Linear(in_features=768, out_features=768, bias=True)\n",
       "            (value): Linear(in_features=768, out_features=768, bias=True)\n",
       "            (dropout): Dropout(p=0.1, inplace=False)\n",
       "          )\n",
       "          (output): BertSelfOutput(\n",
       "            (dense): Linear(in_features=768, out_features=768, bias=True)\n",
       "            (LayerNorm): LayerNorm((768,), eps=1e-12, elementwise_affine=True)\n",
       "            (dropout): Dropout(p=0.1, inplace=False)\n",
       "          )\n",
       "        )\n",
       "        (intermediate): BertIntermediate(\n",
       "          (dense): Linear(in_features=768, out_features=3072, bias=True)\n",
       "        )\n",
       "        (output): BertOutput(\n",
       "          (dense): Linear(in_features=3072, out_features=768, bias=True)\n",
       "          (LayerNorm): LayerNorm((768,), eps=1e-12, elementwise_affine=True)\n",
       "          (dropout): Dropout(p=0.1, inplace=False)\n",
       "        )\n",
       "      )\n",
       "      (10): BertLayer(\n",
       "        (attention): BertAttention(\n",
       "          (self): BertSelfAttention(\n",
       "            (query): Linear(in_features=768, out_features=768, bias=True)\n",
       "            (key): Linear(in_features=768, out_features=768, bias=True)\n",
       "            (value): Linear(in_features=768, out_features=768, bias=True)\n",
       "            (dropout): Dropout(p=0.1, inplace=False)\n",
       "          )\n",
       "          (output): BertSelfOutput(\n",
       "            (dense): Linear(in_features=768, out_features=768, bias=True)\n",
       "            (LayerNorm): LayerNorm((768,), eps=1e-12, elementwise_affine=True)\n",
       "            (dropout): Dropout(p=0.1, inplace=False)\n",
       "          )\n",
       "        )\n",
       "        (intermediate): BertIntermediate(\n",
       "          (dense): Linear(in_features=768, out_features=3072, bias=True)\n",
       "        )\n",
       "        (output): BertOutput(\n",
       "          (dense): Linear(in_features=3072, out_features=768, bias=True)\n",
       "          (LayerNorm): LayerNorm((768,), eps=1e-12, elementwise_affine=True)\n",
       "          (dropout): Dropout(p=0.1, inplace=False)\n",
       "        )\n",
       "      )\n",
       "      (11): BertLayer(\n",
       "        (attention): BertAttention(\n",
       "          (self): BertSelfAttention(\n",
       "            (query): Linear(in_features=768, out_features=768, bias=True)\n",
       "            (key): Linear(in_features=768, out_features=768, bias=True)\n",
       "            (value): Linear(in_features=768, out_features=768, bias=True)\n",
       "            (dropout): Dropout(p=0.1, inplace=False)\n",
       "          )\n",
       "          (output): BertSelfOutput(\n",
       "            (dense): Linear(in_features=768, out_features=768, bias=True)\n",
       "            (LayerNorm): LayerNorm((768,), eps=1e-12, elementwise_affine=True)\n",
       "            (dropout): Dropout(p=0.1, inplace=False)\n",
       "          )\n",
       "        )\n",
       "        (intermediate): BertIntermediate(\n",
       "          (dense): Linear(in_features=768, out_features=3072, bias=True)\n",
       "        )\n",
       "        (output): BertOutput(\n",
       "          (dense): Linear(in_features=3072, out_features=768, bias=True)\n",
       "          (LayerNorm): LayerNorm((768,), eps=1e-12, elementwise_affine=True)\n",
       "          (dropout): Dropout(p=0.1, inplace=False)\n",
       "        )\n",
       "      )\n",
       "    )\n",
       "  )\n",
       "  (pooler): BertPooler(\n",
       "    (dense): Linear(in_features=768, out_features=768, bias=True)\n",
       "    (activation): Tanh()\n",
       "  )\n",
       ")"
      ]
     },
     "execution_count": 40,
     "metadata": {},
     "output_type": "execute_result"
    }
   ],
   "source": [
    "bert_model"
   ]
  },
  {
   "cell_type": "code",
   "execution_count": 41,
   "metadata": {
    "execution": {
     "iopub.execute_input": "2021-08-07T12:27:56.007691Z",
     "iopub.status.busy": "2021-08-07T12:27:56.007198Z",
     "iopub.status.idle": "2021-08-07T12:27:56.017304Z",
     "shell.execute_reply": "2021-08-07T12:27:56.016237Z",
     "shell.execute_reply.started": "2021-08-07T12:27:56.007556Z"
    }
   },
   "outputs": [
    {
     "data": {
      "text/plain": [
       "BertConfig {\n",
       "  \"_name_or_path\": \"bert-base-cased\",\n",
       "  \"architectures\": [\n",
       "    \"BertForMaskedLM\"\n",
       "  ],\n",
       "  \"attention_probs_dropout_prob\": 0.1,\n",
       "  \"gradient_checkpointing\": false,\n",
       "  \"hidden_act\": \"gelu\",\n",
       "  \"hidden_dropout_prob\": 0.1,\n",
       "  \"hidden_size\": 768,\n",
       "  \"initializer_range\": 0.02,\n",
       "  \"intermediate_size\": 3072,\n",
       "  \"layer_norm_eps\": 1e-12,\n",
       "  \"max_position_embeddings\": 512,\n",
       "  \"model_type\": \"bert\",\n",
       "  \"num_attention_heads\": 12,\n",
       "  \"num_hidden_layers\": 12,\n",
       "  \"pad_token_id\": 0,\n",
       "  \"position_embedding_type\": \"absolute\",\n",
       "  \"transformers_version\": \"4.6.1\",\n",
       "  \"type_vocab_size\": 2,\n",
       "  \"use_cache\": true,\n",
       "  \"vocab_size\": 28996\n",
       "}"
      ]
     },
     "execution_count": 41,
     "metadata": {},
     "output_type": "execute_result"
    }
   ],
   "source": [
    "bert_model.config"
   ]
  },
  {
   "cell_type": "code",
   "execution_count": 42,
   "metadata": {
    "execution": {
     "iopub.execute_input": "2021-08-07T12:27:56.019338Z",
     "iopub.status.busy": "2021-08-07T12:27:56.018916Z",
     "iopub.status.idle": "2021-08-07T12:27:56.364414Z",
     "shell.execute_reply": "2021-08-07T12:27:56.363539Z",
     "shell.execute_reply.started": "2021-08-07T12:27:56.019297Z"
    }
   },
   "outputs": [],
   "source": [
    "output = bert_model(input_ids = encoding[\"input_ids\"] , attention_mask = encoding[\"attention_mask\"])"
   ]
  },
  {
   "cell_type": "code",
   "execution_count": 43,
   "metadata": {
    "execution": {
     "iopub.execute_input": "2021-08-07T12:27:56.366192Z",
     "iopub.status.busy": "2021-08-07T12:27:56.365674Z",
     "iopub.status.idle": "2021-08-07T12:27:56.372174Z",
     "shell.execute_reply": "2021-08-07T12:27:56.371313Z",
     "shell.execute_reply.started": "2021-08-07T12:27:56.366152Z"
    }
   },
   "outputs": [
    {
     "name": "stdout",
     "output_type": "stream",
     "text": [
      "torch.Size([1, 100, 768])\n",
      "torch.Size([1, 768])\n"
     ]
    }
   ],
   "source": [
    "print(output[\"last_hidden_state\"].shape)\n",
    "print(output[\"pooler_output\"].shape)\n",
    "\n",
    "#  You can think of the pooler_output as a summary of the content, according to BERT\n",
    "#  768 is the number of hidden units in the feedforward-networks."
   ]
  },
  {
   "cell_type": "code",
   "execution_count": 44,
   "metadata": {
    "execution": {
     "iopub.execute_input": "2021-08-07T12:27:56.374318Z",
     "iopub.status.busy": "2021-08-07T12:27:56.373497Z",
     "iopub.status.idle": "2021-08-07T12:27:56.383085Z",
     "shell.execute_reply": "2021-08-07T12:27:56.381896Z",
     "shell.execute_reply.started": "2021-08-07T12:27:56.374279Z"
    }
   },
   "outputs": [],
   "source": [
    "class SentimentModel(nn.Module):\n",
    "    \n",
    "    def __init__(self,n_classes):\n",
    "        super().__init__()\n",
    "        \n",
    "        self.bert_layer = transformers.BertModel.from_pretrained(PRE_TRAINED_MODEL_NAME) # With this we have applied BERT embedding layer and 12 multi-head attention layers whose weights are already trained.\n",
    "        \n",
    "        self.dropout_layer = nn.Dropout(0.3) # Applying some regularization\n",
    "        \n",
    "        self.linear_layer = nn.Linear(self.bert_layer.config.hidden_size,n_classes)  # As output of BERT layer will be 1x768 ,so applying a Linear layer with input 768 and output as no.of classes,\n",
    "#         to linearly transform this 1x768 vector into 1x3 (i.e our no.of classes)\n",
    "                \n",
    "        \n",
    "    def forward(self,input_ids,attention_mask):\n",
    "        \n",
    "        output = self.bert_layer(input_ids=input_ids,attention_mask=attention_mask)\n",
    "#         print(output['pooler_output'])\n",
    "        output =  self.dropout_layer(output['pooler_output'])\n",
    "#         print(output)\n",
    "        output = self.linear_layer(output)\n",
    "#         print(output)\n",
    "        return output\n",
    "\n",
    "\n",
    "# Note that we're returning the raw output of the last layer since that is required for the cross-entropy loss function in PyTorch to work.\n",
    "# Later for predictions we need to use a softmax layer over this raw output to get the probabilities that adds upto 1.\n",
    "        "
   ]
  },
  {
   "cell_type": "code",
   "execution_count": 45,
   "metadata": {
    "execution": {
     "iopub.execute_input": "2021-08-07T12:27:56.384970Z",
     "iopub.status.busy": "2021-08-07T12:27:56.384453Z",
     "iopub.status.idle": "2021-08-07T12:28:01.882013Z",
     "shell.execute_reply": "2021-08-07T12:28:01.881012Z",
     "shell.execute_reply.started": "2021-08-07T12:27:56.384933Z"
    }
   },
   "outputs": [
    {
     "name": "stderr",
     "output_type": "stream",
     "text": [
      "Some weights of the model checkpoint at bert-base-cased were not used when initializing BertModel: ['cls.predictions.transform.dense.weight', 'cls.predictions.bias', 'cls.predictions.transform.dense.bias', 'cls.seq_relationship.bias', 'cls.predictions.decoder.weight', 'cls.seq_relationship.weight', 'cls.predictions.transform.LayerNorm.weight', 'cls.predictions.transform.LayerNorm.bias']\n",
      "- This IS expected if you are initializing BertModel from the checkpoint of a model trained on another task or with another architecture (e.g. initializing a BertForSequenceClassification model from a BertForPreTraining model).\n",
      "- This IS NOT expected if you are initializing BertModel from the checkpoint of a model that you expect to be exactly identical (initializing a BertForSequenceClassification model from a BertForSequenceClassification model).\n"
     ]
    },
    {
     "data": {
      "text/plain": [
       "tensor([[ 0.1790, -0.4156, -0.9835],\n",
       "        [-0.6822, -0.6533, -0.5745],\n",
       "        [-0.1200, -0.7411, -0.5536],\n",
       "        [ 0.1799, -0.5515, -0.0570],\n",
       "        [-0.3496, -0.4380, -0.6614],\n",
       "        [ 0.1199, -0.5348, -0.3599],\n",
       "        [-0.0201, -0.7936, -0.7021],\n",
       "        [-0.1151, -0.3625, -0.8624],\n",
       "        [-0.3032, -0.5352, -0.7781],\n",
       "        [-0.5873,  0.1513, -0.7637],\n",
       "        [-0.1135, -0.2401, -0.7415],\n",
       "        [ 0.1238, -0.2173, -0.5030],\n",
       "        [ 0.1734, -0.2817, -0.6842],\n",
       "        [ 0.2601, -0.0464, -0.9371],\n",
       "        [ 0.3035, -0.0213, -1.0365],\n",
       "        [-0.3682, -0.9395, -0.5920]], grad_fn=<AddmmBackward>)"
      ]
     },
     "execution_count": 45,
     "metadata": {},
     "output_type": "execute_result"
    }
   ],
   "source": [
    "model = SentimentModel(n_classes=3)\n",
    "model(data[\"x\"],data[\"attention_mask\"])\n",
    "\n",
    "# Note that the values over axis=1 doesnt add upto 1."
   ]
  },
  {
   "cell_type": "code",
   "execution_count": 46,
   "metadata": {
    "execution": {
     "iopub.execute_input": "2021-08-07T12:28:01.885232Z",
     "iopub.status.busy": "2021-08-07T12:28:01.884914Z",
     "iopub.status.idle": "2021-08-07T12:28:01.957663Z",
     "shell.execute_reply": "2021-08-07T12:28:01.955906Z",
     "shell.execute_reply.started": "2021-08-07T12:28:01.885204Z"
    }
   },
   "outputs": [
    {
     "name": "stdout",
     "output_type": "stream",
     "text": [
      "bert_layer.embeddings.word_embeddings.weight\n",
      "bert_layer.embeddings.position_embeddings.weight\n",
      "bert_layer.embeddings.token_type_embeddings.weight\n",
      "bert_layer.embeddings.LayerNorm.weight\n",
      "bert_layer.embeddings.LayerNorm.bias\n",
      "bert_layer.encoder.layer.0.attention.self.query.weight\n",
      "bert_layer.encoder.layer.0.attention.self.query.bias\n",
      "bert_layer.encoder.layer.0.attention.self.key.weight\n",
      "bert_layer.encoder.layer.0.attention.self.key.bias\n",
      "bert_layer.encoder.layer.0.attention.self.value.weight\n",
      "bert_layer.encoder.layer.0.attention.self.value.bias\n",
      "bert_layer.encoder.layer.0.attention.output.dense.weight\n",
      "bert_layer.encoder.layer.0.attention.output.dense.bias\n",
      "bert_layer.encoder.layer.0.attention.output.LayerNorm.weight\n",
      "bert_layer.encoder.layer.0.attention.output.LayerNorm.bias\n",
      "bert_layer.encoder.layer.0.intermediate.dense.weight\n",
      "bert_layer.encoder.layer.0.intermediate.dense.bias\n",
      "bert_layer.encoder.layer.0.output.dense.weight\n",
      "bert_layer.encoder.layer.0.output.dense.bias\n",
      "bert_layer.encoder.layer.0.output.LayerNorm.weight\n",
      "bert_layer.encoder.layer.0.output.LayerNorm.bias\n",
      "bert_layer.encoder.layer.1.attention.self.query.weight\n",
      "bert_layer.encoder.layer.1.attention.self.query.bias\n",
      "bert_layer.encoder.layer.1.attention.self.key.weight\n",
      "bert_layer.encoder.layer.1.attention.self.key.bias\n",
      "bert_layer.encoder.layer.1.attention.self.value.weight\n",
      "bert_layer.encoder.layer.1.attention.self.value.bias\n",
      "bert_layer.encoder.layer.1.attention.output.dense.weight\n",
      "bert_layer.encoder.layer.1.attention.output.dense.bias\n",
      "bert_layer.encoder.layer.1.attention.output.LayerNorm.weight\n",
      "bert_layer.encoder.layer.1.attention.output.LayerNorm.bias\n",
      "bert_layer.encoder.layer.1.intermediate.dense.weight\n",
      "bert_layer.encoder.layer.1.intermediate.dense.bias\n",
      "bert_layer.encoder.layer.1.output.dense.weight\n",
      "bert_layer.encoder.layer.1.output.dense.bias\n",
      "bert_layer.encoder.layer.1.output.LayerNorm.weight\n",
      "bert_layer.encoder.layer.1.output.LayerNorm.bias\n",
      "bert_layer.encoder.layer.2.attention.self.query.weight\n",
      "bert_layer.encoder.layer.2.attention.self.query.bias\n",
      "bert_layer.encoder.layer.2.attention.self.key.weight\n",
      "bert_layer.encoder.layer.2.attention.self.key.bias\n",
      "bert_layer.encoder.layer.2.attention.self.value.weight\n",
      "bert_layer.encoder.layer.2.attention.self.value.bias\n",
      "bert_layer.encoder.layer.2.attention.output.dense.weight\n",
      "bert_layer.encoder.layer.2.attention.output.dense.bias\n",
      "bert_layer.encoder.layer.2.attention.output.LayerNorm.weight\n",
      "bert_layer.encoder.layer.2.attention.output.LayerNorm.bias\n",
      "bert_layer.encoder.layer.2.intermediate.dense.weight\n",
      "bert_layer.encoder.layer.2.intermediate.dense.bias\n",
      "bert_layer.encoder.layer.2.output.dense.weight\n",
      "bert_layer.encoder.layer.2.output.dense.bias\n",
      "bert_layer.encoder.layer.2.output.LayerNorm.weight\n",
      "bert_layer.encoder.layer.2.output.LayerNorm.bias\n",
      "bert_layer.encoder.layer.3.attention.self.query.weight\n",
      "bert_layer.encoder.layer.3.attention.self.query.bias\n",
      "bert_layer.encoder.layer.3.attention.self.key.weight\n",
      "bert_layer.encoder.layer.3.attention.self.key.bias\n",
      "bert_layer.encoder.layer.3.attention.self.value.weight\n",
      "bert_layer.encoder.layer.3.attention.self.value.bias\n",
      "bert_layer.encoder.layer.3.attention.output.dense.weight\n",
      "bert_layer.encoder.layer.3.attention.output.dense.bias\n",
      "bert_layer.encoder.layer.3.attention.output.LayerNorm.weight\n",
      "bert_layer.encoder.layer.3.attention.output.LayerNorm.bias\n",
      "bert_layer.encoder.layer.3.intermediate.dense.weight\n",
      "bert_layer.encoder.layer.3.intermediate.dense.bias\n",
      "bert_layer.encoder.layer.3.output.dense.weight\n",
      "bert_layer.encoder.layer.3.output.dense.bias\n",
      "bert_layer.encoder.layer.3.output.LayerNorm.weight\n",
      "bert_layer.encoder.layer.3.output.LayerNorm.bias\n",
      "bert_layer.encoder.layer.4.attention.self.query.weight\n",
      "bert_layer.encoder.layer.4.attention.self.query.bias\n",
      "bert_layer.encoder.layer.4.attention.self.key.weight\n",
      "bert_layer.encoder.layer.4.attention.self.key.bias\n",
      "bert_layer.encoder.layer.4.attention.self.value.weight\n",
      "bert_layer.encoder.layer.4.attention.self.value.bias\n",
      "bert_layer.encoder.layer.4.attention.output.dense.weight\n",
      "bert_layer.encoder.layer.4.attention.output.dense.bias\n",
      "bert_layer.encoder.layer.4.attention.output.LayerNorm.weight\n",
      "bert_layer.encoder.layer.4.attention.output.LayerNorm.bias\n",
      "bert_layer.encoder.layer.4.intermediate.dense.weight\n",
      "bert_layer.encoder.layer.4.intermediate.dense.bias\n",
      "bert_layer.encoder.layer.4.output.dense.weight\n",
      "bert_layer.encoder.layer.4.output.dense.bias\n",
      "bert_layer.encoder.layer.4.output.LayerNorm.weight\n",
      "bert_layer.encoder.layer.4.output.LayerNorm.bias\n",
      "bert_layer.encoder.layer.5.attention.self.query.weight\n",
      "bert_layer.encoder.layer.5.attention.self.query.bias\n",
      "bert_layer.encoder.layer.5.attention.self.key.weight\n",
      "bert_layer.encoder.layer.5.attention.self.key.bias\n",
      "bert_layer.encoder.layer.5.attention.self.value.weight\n",
      "bert_layer.encoder.layer.5.attention.self.value.bias\n",
      "bert_layer.encoder.layer.5.attention.output.dense.weight\n",
      "bert_layer.encoder.layer.5.attention.output.dense.bias\n",
      "bert_layer.encoder.layer.5.attention.output.LayerNorm.weight\n",
      "bert_layer.encoder.layer.5.attention.output.LayerNorm.bias\n",
      "bert_layer.encoder.layer.5.intermediate.dense.weight\n",
      "bert_layer.encoder.layer.5.intermediate.dense.bias\n",
      "bert_layer.encoder.layer.5.output.dense.weight\n",
      "bert_layer.encoder.layer.5.output.dense.bias\n",
      "bert_layer.encoder.layer.5.output.LayerNorm.weight\n",
      "bert_layer.encoder.layer.5.output.LayerNorm.bias\n",
      "bert_layer.encoder.layer.6.attention.self.query.weight\n",
      "bert_layer.encoder.layer.6.attention.self.query.bias\n",
      "bert_layer.encoder.layer.6.attention.self.key.weight\n",
      "bert_layer.encoder.layer.6.attention.self.key.bias\n",
      "bert_layer.encoder.layer.6.attention.self.value.weight\n",
      "bert_layer.encoder.layer.6.attention.self.value.bias\n",
      "bert_layer.encoder.layer.6.attention.output.dense.weight\n",
      "bert_layer.encoder.layer.6.attention.output.dense.bias\n",
      "bert_layer.encoder.layer.6.attention.output.LayerNorm.weight\n",
      "bert_layer.encoder.layer.6.attention.output.LayerNorm.bias\n",
      "bert_layer.encoder.layer.6.intermediate.dense.weight\n",
      "bert_layer.encoder.layer.6.intermediate.dense.bias\n",
      "bert_layer.encoder.layer.6.output.dense.weight\n",
      "bert_layer.encoder.layer.6.output.dense.bias\n",
      "bert_layer.encoder.layer.6.output.LayerNorm.weight\n",
      "bert_layer.encoder.layer.6.output.LayerNorm.bias\n",
      "bert_layer.encoder.layer.7.attention.self.query.weight\n",
      "bert_layer.encoder.layer.7.attention.self.query.bias\n",
      "bert_layer.encoder.layer.7.attention.self.key.weight\n",
      "bert_layer.encoder.layer.7.attention.self.key.bias\n",
      "bert_layer.encoder.layer.7.attention.self.value.weight\n",
      "bert_layer.encoder.layer.7.attention.self.value.bias\n",
      "bert_layer.encoder.layer.7.attention.output.dense.weight\n",
      "bert_layer.encoder.layer.7.attention.output.dense.bias\n",
      "bert_layer.encoder.layer.7.attention.output.LayerNorm.weight\n",
      "bert_layer.encoder.layer.7.attention.output.LayerNorm.bias\n",
      "bert_layer.encoder.layer.7.intermediate.dense.weight\n",
      "bert_layer.encoder.layer.7.intermediate.dense.bias\n",
      "bert_layer.encoder.layer.7.output.dense.weight\n",
      "bert_layer.encoder.layer.7.output.dense.bias\n",
      "bert_layer.encoder.layer.7.output.LayerNorm.weight\n",
      "bert_layer.encoder.layer.7.output.LayerNorm.bias\n",
      "bert_layer.encoder.layer.8.attention.self.query.weight\n",
      "bert_layer.encoder.layer.8.attention.self.query.bias\n",
      "bert_layer.encoder.layer.8.attention.self.key.weight\n",
      "bert_layer.encoder.layer.8.attention.self.key.bias\n",
      "bert_layer.encoder.layer.8.attention.self.value.weight\n",
      "bert_layer.encoder.layer.8.attention.self.value.bias\n",
      "bert_layer.encoder.layer.8.attention.output.dense.weight\n",
      "bert_layer.encoder.layer.8.attention.output.dense.bias\n",
      "bert_layer.encoder.layer.8.attention.output.LayerNorm.weight\n",
      "bert_layer.encoder.layer.8.attention.output.LayerNorm.bias\n",
      "bert_layer.encoder.layer.8.intermediate.dense.weight\n",
      "bert_layer.encoder.layer.8.intermediate.dense.bias\n",
      "bert_layer.encoder.layer.8.output.dense.weight\n",
      "bert_layer.encoder.layer.8.output.dense.bias\n",
      "bert_layer.encoder.layer.8.output.LayerNorm.weight\n",
      "bert_layer.encoder.layer.8.output.LayerNorm.bias\n",
      "bert_layer.encoder.layer.9.attention.self.query.weight\n",
      "bert_layer.encoder.layer.9.attention.self.query.bias\n",
      "bert_layer.encoder.layer.9.attention.self.key.weight\n",
      "bert_layer.encoder.layer.9.attention.self.key.bias\n",
      "bert_layer.encoder.layer.9.attention.self.value.weight\n",
      "bert_layer.encoder.layer.9.attention.self.value.bias\n",
      "bert_layer.encoder.layer.9.attention.output.dense.weight\n",
      "bert_layer.encoder.layer.9.attention.output.dense.bias\n",
      "bert_layer.encoder.layer.9.attention.output.LayerNorm.weight\n",
      "bert_layer.encoder.layer.9.attention.output.LayerNorm.bias\n",
      "bert_layer.encoder.layer.9.intermediate.dense.weight\n",
      "bert_layer.encoder.layer.9.intermediate.dense.bias\n",
      "bert_layer.encoder.layer.9.output.dense.weight\n",
      "bert_layer.encoder.layer.9.output.dense.bias\n",
      "bert_layer.encoder.layer.9.output.LayerNorm.weight\n",
      "bert_layer.encoder.layer.9.output.LayerNorm.bias\n",
      "bert_layer.encoder.layer.10.attention.self.query.weight\n",
      "bert_layer.encoder.layer.10.attention.self.query.bias\n",
      "bert_layer.encoder.layer.10.attention.self.key.weight\n",
      "bert_layer.encoder.layer.10.attention.self.key.bias\n",
      "bert_layer.encoder.layer.10.attention.self.value.weight\n",
      "bert_layer.encoder.layer.10.attention.self.value.bias\n",
      "bert_layer.encoder.layer.10.attention.output.dense.weight\n",
      "bert_layer.encoder.layer.10.attention.output.dense.bias\n",
      "bert_layer.encoder.layer.10.attention.output.LayerNorm.weight\n",
      "bert_layer.encoder.layer.10.attention.output.LayerNorm.bias\n",
      "bert_layer.encoder.layer.10.intermediate.dense.weight\n",
      "bert_layer.encoder.layer.10.intermediate.dense.bias\n",
      "bert_layer.encoder.layer.10.output.dense.weight\n",
      "bert_layer.encoder.layer.10.output.dense.bias\n",
      "bert_layer.encoder.layer.10.output.LayerNorm.weight\n",
      "bert_layer.encoder.layer.10.output.LayerNorm.bias\n",
      "bert_layer.encoder.layer.11.attention.self.query.weight\n",
      "bert_layer.encoder.layer.11.attention.self.query.bias\n",
      "bert_layer.encoder.layer.11.attention.self.key.weight\n",
      "bert_layer.encoder.layer.11.attention.self.key.bias\n",
      "bert_layer.encoder.layer.11.attention.self.value.weight\n",
      "bert_layer.encoder.layer.11.attention.self.value.bias\n",
      "bert_layer.encoder.layer.11.attention.output.dense.weight\n",
      "bert_layer.encoder.layer.11.attention.output.dense.bias\n",
      "bert_layer.encoder.layer.11.attention.output.LayerNorm.weight\n",
      "bert_layer.encoder.layer.11.attention.output.LayerNorm.bias\n",
      "bert_layer.encoder.layer.11.intermediate.dense.weight\n",
      "bert_layer.encoder.layer.11.intermediate.dense.bias\n",
      "bert_layer.encoder.layer.11.output.dense.weight\n",
      "bert_layer.encoder.layer.11.output.dense.bias\n",
      "bert_layer.encoder.layer.11.output.LayerNorm.weight\n",
      "bert_layer.encoder.layer.11.output.LayerNorm.bias\n",
      "bert_layer.pooler.dense.weight\n",
      "bert_layer.pooler.dense.bias\n",
      "linear_layer.weight\n",
      "linear_layer.bias\n"
     ]
    }
   ],
   "source": [
    "for name,value in model.named_parameters():\n",
    "    print(name)"
   ]
  },
  {
   "cell_type": "code",
   "execution_count": 47,
   "metadata": {
    "execution": {
     "iopub.execute_input": "2021-08-07T12:28:01.959205Z",
     "iopub.status.busy": "2021-08-07T12:28:01.958793Z",
     "iopub.status.idle": "2021-08-07T12:28:01.981321Z",
     "shell.execute_reply": "2021-08-07T12:28:01.980428Z",
     "shell.execute_reply.started": "2021-08-07T12:28:01.959164Z"
    }
   },
   "outputs": [
    {
     "name": "stdout",
     "output_type": "stream",
     "text": [
      "Parameter containing:\n",
      "tensor([[-0.0005, -0.0416,  0.0131,  ..., -0.0039, -0.0335,  0.0150],\n",
      "        [ 0.0169, -0.0311,  0.0042,  ..., -0.0147, -0.0356, -0.0036],\n",
      "        [-0.0006, -0.0267,  0.0080,  ..., -0.0100, -0.0331, -0.0165],\n",
      "        ...,\n",
      "        [-0.0064,  0.0166, -0.0204,  ..., -0.0418, -0.0492,  0.0042],\n",
      "        [-0.0048, -0.0027, -0.0290,  ..., -0.0512,  0.0045, -0.0118],\n",
      "        [ 0.0313, -0.0297, -0.0230,  ..., -0.0145, -0.0525,  0.0284]],\n",
      "       requires_grad=True)\n"
     ]
    }
   ],
   "source": [
    "for i in model.parameters():\n",
    "    print(i)\n",
    "    break"
   ]
  },
  {
   "cell_type": "markdown",
   "metadata": {},
   "source": [
    "## Training BERT model"
   ]
  },
  {
   "cell_type": "code",
   "execution_count": 48,
   "metadata": {
    "execution": {
     "iopub.execute_input": "2021-08-07T12:28:01.985724Z",
     "iopub.status.busy": "2021-08-07T12:28:01.985094Z",
     "iopub.status.idle": "2021-08-07T12:28:07.250603Z",
     "shell.execute_reply": "2021-08-07T12:28:07.249628Z",
     "shell.execute_reply.started": "2021-08-07T12:28:01.985685Z"
    }
   },
   "outputs": [],
   "source": [
    "model = model.to(\"cuda\")"
   ]
  },
  {
   "cell_type": "code",
   "execution_count": 49,
   "metadata": {
    "execution": {
     "iopub.execute_input": "2021-08-07T12:28:07.254140Z",
     "iopub.status.busy": "2021-08-07T12:28:07.253872Z",
     "iopub.status.idle": "2021-08-07T12:28:07.265164Z",
     "shell.execute_reply": "2021-08-07T12:28:07.264390Z",
     "shell.execute_reply.started": "2021-08-07T12:28:07.254112Z"
    }
   },
   "outputs": [],
   "source": [
    "# Whatever model paramaters are provided in params will be updated every time we call optimizer.step().Here we are updating all our model parameters.\n",
    "\n",
    "optimizer = transformers.AdamW(params=model.parameters() , lr=2e-5 , correct_bias=False)\n",
    "\n",
    "total_steps = len(train_DataLoader) * EPOCHS\n",
    "\n",
    "# Create a schedule with a learning rate that decreases linearly from the initial lr set in the optimizer to 0, after a warmup period during which it \n",
    "# increases linearly from 0 to the initial lr set in the optimizer\n",
    "scheduler = transformers.get_linear_schedule_with_warmup(optimizer=optimizer , num_training_steps=total_steps, num_warmup_steps=0)\n",
    "\n",
    "loss_function = nn.CrossEntropyLoss().to(\"cuda\")"
   ]
  },
  {
   "cell_type": "code",
   "execution_count": 50,
   "metadata": {
    "execution": {
     "iopub.execute_input": "2021-08-07T12:28:07.266805Z",
     "iopub.status.busy": "2021-08-07T12:28:07.266457Z",
     "iopub.status.idle": "2021-08-07T12:28:07.277583Z",
     "shell.execute_reply": "2021-08-07T12:28:07.276802Z",
     "shell.execute_reply.started": "2021-08-07T12:28:07.266769Z"
    }
   },
   "outputs": [],
   "source": [
    "def train_one_step(model,optimizer,data,scheduler,loss_function):\n",
    "    \n",
    "    correct_prediction = 0\n",
    "    \n",
    "    optimizer.zero_grad() #Do this at starting of every step.Pytorch dont do it automatically as NN like RNN required gradients to add up over the iterations.\n",
    "    \n",
    "    data['x'] = data['x'].to(\"cuda\")\n",
    "    data['y'] = data['y'].to(\"cuda\")\n",
    "    data['attention_mask'] = data['attention_mask'].to(\"cuda\")\n",
    "        \n",
    "    model_output = model(input_ids=data['x'],attention_mask=data['attention_mask'])\n",
    "    \n",
    "    _,pred = torch.max(model_output , dim=1) # This will return the max value and the position(0,1 or 2).\n",
    "    \n",
    "    loss = loss_function(model_output,data[\"y\"]) # Input: (N, C)where C = number of classes.Check documentation.IMP\n",
    " \n",
    "    loss.backward() # Calling .backward() mutiple times accumulates the gradient (by addition) for each parameter. This is why you should call optimizer.zero_grad() \n",
    "#     after each .step() call. Note that following the first .backward call, a second call is only possible after you have performed another forward pass.\n",
    "    \n",
    "    nn.utils.clip_grad_norm_(model.parameters() , max_norm=1.0) # Doing gradient cliping to avoid exploading gradient casses.\n",
    "    \n",
    "    optimizer.step()  # optimizer.step performs a parameter update based on the current gradient (stored in .grad attribute of a parameter) and the update rule\n",
    "    \n",
    "    correct_prediction += torch.sum(pred == data[\"y\"])\n",
    "    \n",
    "    accuracy = correct_prediction/len(data['y'])\n",
    "\n",
    "    return loss,accuracy\n",
    "    "
   ]
  },
  {
   "cell_type": "code",
   "execution_count": 51,
   "metadata": {
    "execution": {
     "iopub.execute_input": "2021-08-07T12:28:07.280905Z",
     "iopub.status.busy": "2021-08-07T12:28:07.280662Z",
     "iopub.status.idle": "2021-08-07T12:28:07.289228Z",
     "shell.execute_reply": "2021-08-07T12:28:07.288432Z",
     "shell.execute_reply.started": "2021-08-07T12:28:07.280883Z"
    }
   },
   "outputs": [],
   "source": [
    "def train_one_epoch(model,data_loader,optimizer,scheduler,loss_function):\n",
    "    \n",
    "    model.train() # It doesnt train the model,but rather set a flag to let pytorch know that now model is in training phase.\n",
    "#     This is done to make pytorch handle dropout differently during trainig and validation.\n",
    "    total_loss = 0\n",
    "    \n",
    "    total_accuracy = 0\n",
    "    \n",
    "    for batch_index , data in enumerate(data_loader): # If total data in train set is 1000 and our batch_size is 10 so the below loop will run for 100 times/steps.\n",
    "#         And in each step 10 data points will go as input.So train_one_step will get 10 data points at each iteration.\n",
    "        \n",
    "        loss , accuracy = train_one_step(model,optimizer,data,scheduler,loss_function)\n",
    "        \n",
    "        scheduler.step()\n",
    "        \n",
    "        total_loss += loss\n",
    "        \n",
    "        total_accuracy += accuracy\n",
    "        \n",
    "    return total_loss/len(data_loader) , total_accuracy/len(data_loader)"
   ]
  },
  {
   "cell_type": "code",
   "execution_count": 52,
   "metadata": {
    "execution": {
     "iopub.execute_input": "2021-08-07T12:28:07.292679Z",
     "iopub.status.busy": "2021-08-07T12:28:07.292359Z",
     "iopub.status.idle": "2021-08-07T12:28:07.301346Z",
     "shell.execute_reply": "2021-08-07T12:28:07.300522Z",
     "shell.execute_reply.started": "2021-08-07T12:28:07.292651Z"
    }
   },
   "outputs": [],
   "source": [
    "def val_one_step(model,data,loss_function):\n",
    "    \n",
    "    correct_prediction = 0\n",
    "    \n",
    "    data['x'] = data['x'].to(\"cuda\")\n",
    "    data['y'] = data['y'].to(\"cuda\")\n",
    "    data['attention_mask'] = data['attention_mask'].to(\"cuda\")\n",
    "        \n",
    "    model_output = model(input_ids=data['x'],attention_mask=data['attention_mask'])\n",
    "    \n",
    "    _,pred = torch.max(model_output , dim=1) # This will return the max value and the position(0,1 or 2).\n",
    "    \n",
    "    loss = loss_function(model_output,data[\"y\"])\n",
    "    \n",
    "    correct_prediction += torch.sum(pred == data[\"y\"])\n",
    "    \n",
    "    accuracy = correct_prediction/len(data['y'])\n",
    "    \n",
    "    return loss , accuracy\n",
    "    \n",
    "    "
   ]
  },
  {
   "cell_type": "code",
   "execution_count": 53,
   "metadata": {
    "execution": {
     "iopub.execute_input": "2021-08-07T12:28:07.304615Z",
     "iopub.status.busy": "2021-08-07T12:28:07.304346Z",
     "iopub.status.idle": "2021-08-07T12:28:07.312074Z",
     "shell.execute_reply": "2021-08-07T12:28:07.311280Z",
     "shell.execute_reply.started": "2021-08-07T12:28:07.304592Z"
    }
   },
   "outputs": [],
   "source": [
    "def val_one_epoch(model,data_loader,loss_function):\n",
    "    \n",
    "    model.eval() # This dont evaluate the model but rather set some flag to make pytorch know that model \n",
    "#     is in evaluation phase now and so pytorch will handle drop out differently now.\n",
    "    \n",
    "    total_loss = 0\n",
    "    \n",
    "    total_accuracy = 0\n",
    "    \n",
    "    for batch_index ,data in enumerate(data_loader):\n",
    "        \n",
    "        with torch.no_grad(): # We dont want to update our parameters during validation.\n",
    "            \n",
    "            loss ,accuracy = val_one_step(model,data,loss_function)\n",
    "            \n",
    "        total_loss += loss\n",
    "        \n",
    "        total_accuracy += accuracy\n",
    "        \n",
    "    return total_loss/len(data_loader) , total_accuracy/len(data_loader)"
   ]
  },
  {
   "cell_type": "code",
   "execution_count": 54,
   "metadata": {
    "execution": {
     "iopub.execute_input": "2021-08-07T12:28:07.315566Z",
     "iopub.status.busy": "2021-08-07T12:28:07.315229Z",
     "iopub.status.idle": "2021-08-07T12:28:07.325136Z",
     "shell.execute_reply": "2021-08-07T12:28:07.324395Z",
     "shell.execute_reply.started": "2021-08-07T12:28:07.315529Z"
    }
   },
   "outputs": [],
   "source": [
    "history = defaultdict(list)\n",
    "\n",
    "def train_model():\n",
    "    \n",
    "    global history\n",
    "    best_accuracy = 0\n",
    "\n",
    "    for epoch in range(EPOCHS):\n",
    "\n",
    "        print(f\"\\nEpoch {epoch+1}/{EPOCHS}\")\n",
    "        print(\"-\"*10)\n",
    "\n",
    "        train_loss,train_accuracy = train_one_epoch(model,train_DataLoader,optimizer,scheduler,loss_function)\n",
    "        print(f'Train Loss      : {train_loss:.4f} ,   Train Accuracy      : {train_accuracy:.4f}')\n",
    "\n",
    "        val_loss,val_accuracy = val_one_epoch(model,val_DataLoader,loss_function)\n",
    "        print(f'Validation Loss : {val_loss:.4f} ,   Validation Accuracy : {val_accuracy:.4f}')\n",
    "\n",
    "        history[\"train_accuracy\"].append(train_accuracy)\n",
    "        history[\"val_accuracy\"].append(val_accuracy)\n",
    "        history[\"train_loss\"].append(train_loss)\n",
    "        history[\"val_loss\"].append(val_loss)\n",
    "\n",
    "        if val_accuracy > best_accuracy:\n",
    "            torch.save(model.state_dict(),f\"best_model_{epoch}.bin\") # In PyTorch, the learnable parameters (i.e. weights and biases) of a torch.nn.Module model are \n",
    "#             contained in the model’s parameters (accessed with model.parameters()). A state_dict is simply a Python dictionary object that maps each layer to its parameter tensor.\n",
    "# A state_dict is an integral entity if you are interested in saving or loading models from PyTorch. Because state_dict objects are Python dictionaries, they can be easily saved, \n",
    "# updated, altered, and restored, adding a great deal of modularity to PyTorch models and optimizers\n",
    "            best_accuracy = val_accuracy\n",
    "            \n",
    "    return best_accuracy"
   ]
  },
  {
   "cell_type": "code",
   "execution_count": 55,
   "metadata": {
    "execution": {
     "iopub.execute_input": "2021-08-07T12:28:07.326628Z",
     "iopub.status.busy": "2021-08-07T12:28:07.326281Z",
     "iopub.status.idle": "2021-08-07T12:44:08.586843Z",
     "shell.execute_reply": "2021-08-07T12:44:08.585951Z",
     "shell.execute_reply.started": "2021-08-07T12:28:07.326596Z"
    }
   },
   "outputs": [
    {
     "name": "stdout",
     "output_type": "stream",
     "text": [
      "\n",
      "Epoch 1/4\n",
      "----------\n",
      "Train Loss      : 0.3493 ,   Train Accuracy      : 0.8724\n",
      "Validation Loss : 0.2667 ,   Valiadtion Accuracy : 0.9043\n",
      "\n",
      "Epoch 2/4\n",
      "----------\n",
      "Train Loss      : 0.1553 ,   Train Accuracy      : 0.9548\n",
      "Validation Loss : 0.3265 ,   Valiadtion Accuracy : 0.9133\n",
      "\n",
      "Epoch 3/4\n",
      "----------\n",
      "Train Loss      : 0.0876 ,   Train Accuracy      : 0.9791\n",
      "Validation Loss : 0.3849 ,   Valiadtion Accuracy : 0.9132\n",
      "\n",
      "Epoch 4/4\n",
      "----------\n",
      "Train Loss      : 0.0604 ,   Train Accuracy      : 0.9863\n",
      "Validation Loss : 0.4278 ,   Valiadtion Accuracy : 0.9105\n",
      "CPU times: user 15min 32s, sys: 8.45 s, total: 15min 41s\n",
      "Wall time: 16min 1s\n"
     ]
    },
    {
     "data": {
      "text/plain": [
       "tensor(0.9133, device='cuda:0')"
      ]
     },
     "execution_count": 55,
     "metadata": {},
     "output_type": "execute_result"
    }
   ],
   "source": [
    "%%time\n",
    "\n",
    "# train_model()\n",
    "\n",
    "# As the model's validation loss keeps on increasing after the first epoch,our model is overfitting,\n",
    "# so we will use the model build after the first epoch only."
   ]
  },
  {
   "cell_type": "markdown",
   "metadata": {},
   "source": [
    "## Loading the Saved Model"
   ]
  },
  {
   "cell_type": "code",
   "execution_count": 60,
   "metadata": {
    "execution": {
     "iopub.execute_input": "2021-08-07T13:07:16.940297Z",
     "iopub.status.busy": "2021-08-07T13:07:16.939943Z",
     "iopub.status.idle": "2021-08-07T13:07:25.830481Z",
     "shell.execute_reply": "2021-08-07T13:07:25.829455Z",
     "shell.execute_reply.started": "2021-08-07T13:07:16.940251Z"
    }
   },
   "outputs": [
    {
     "name": "stderr",
     "output_type": "stream",
     "text": [
      "Some weights of the model checkpoint at bert-base-cased were not used when initializing BertModel: ['cls.predictions.transform.dense.weight', 'cls.predictions.bias', 'cls.predictions.transform.dense.bias', 'cls.seq_relationship.bias', 'cls.predictions.decoder.weight', 'cls.seq_relationship.weight', 'cls.predictions.transform.LayerNorm.weight', 'cls.predictions.transform.LayerNorm.bias']\n",
      "- This IS expected if you are initializing BertModel from the checkpoint of a model trained on another task or with another architecture (e.g. initializing a BertForSequenceClassification model from a BertForPreTraining model).\n",
      "- This IS NOT expected if you are initializing BertModel from the checkpoint of a model that you expect to be exactly identical (initializing a BertForSequenceClassification model from a BertForSequenceClassification model).\n"
     ]
    },
    {
     "data": {
      "text/plain": [
       "SentimentModel(\n",
       "  (bert_layer): BertModel(\n",
       "    (embeddings): BertEmbeddings(\n",
       "      (word_embeddings): Embedding(28996, 768, padding_idx=0)\n",
       "      (position_embeddings): Embedding(512, 768)\n",
       "      (token_type_embeddings): Embedding(2, 768)\n",
       "      (LayerNorm): LayerNorm((768,), eps=1e-12, elementwise_affine=True)\n",
       "      (dropout): Dropout(p=0.1, inplace=False)\n",
       "    )\n",
       "    (encoder): BertEncoder(\n",
       "      (layer): ModuleList(\n",
       "        (0): BertLayer(\n",
       "          (attention): BertAttention(\n",
       "            (self): BertSelfAttention(\n",
       "              (query): Linear(in_features=768, out_features=768, bias=True)\n",
       "              (key): Linear(in_features=768, out_features=768, bias=True)\n",
       "              (value): Linear(in_features=768, out_features=768, bias=True)\n",
       "              (dropout): Dropout(p=0.1, inplace=False)\n",
       "            )\n",
       "            (output): BertSelfOutput(\n",
       "              (dense): Linear(in_features=768, out_features=768, bias=True)\n",
       "              (LayerNorm): LayerNorm((768,), eps=1e-12, elementwise_affine=True)\n",
       "              (dropout): Dropout(p=0.1, inplace=False)\n",
       "            )\n",
       "          )\n",
       "          (intermediate): BertIntermediate(\n",
       "            (dense): Linear(in_features=768, out_features=3072, bias=True)\n",
       "          )\n",
       "          (output): BertOutput(\n",
       "            (dense): Linear(in_features=3072, out_features=768, bias=True)\n",
       "            (LayerNorm): LayerNorm((768,), eps=1e-12, elementwise_affine=True)\n",
       "            (dropout): Dropout(p=0.1, inplace=False)\n",
       "          )\n",
       "        )\n",
       "        (1): BertLayer(\n",
       "          (attention): BertAttention(\n",
       "            (self): BertSelfAttention(\n",
       "              (query): Linear(in_features=768, out_features=768, bias=True)\n",
       "              (key): Linear(in_features=768, out_features=768, bias=True)\n",
       "              (value): Linear(in_features=768, out_features=768, bias=True)\n",
       "              (dropout): Dropout(p=0.1, inplace=False)\n",
       "            )\n",
       "            (output): BertSelfOutput(\n",
       "              (dense): Linear(in_features=768, out_features=768, bias=True)\n",
       "              (LayerNorm): LayerNorm((768,), eps=1e-12, elementwise_affine=True)\n",
       "              (dropout): Dropout(p=0.1, inplace=False)\n",
       "            )\n",
       "          )\n",
       "          (intermediate): BertIntermediate(\n",
       "            (dense): Linear(in_features=768, out_features=3072, bias=True)\n",
       "          )\n",
       "          (output): BertOutput(\n",
       "            (dense): Linear(in_features=3072, out_features=768, bias=True)\n",
       "            (LayerNorm): LayerNorm((768,), eps=1e-12, elementwise_affine=True)\n",
       "            (dropout): Dropout(p=0.1, inplace=False)\n",
       "          )\n",
       "        )\n",
       "        (2): BertLayer(\n",
       "          (attention): BertAttention(\n",
       "            (self): BertSelfAttention(\n",
       "              (query): Linear(in_features=768, out_features=768, bias=True)\n",
       "              (key): Linear(in_features=768, out_features=768, bias=True)\n",
       "              (value): Linear(in_features=768, out_features=768, bias=True)\n",
       "              (dropout): Dropout(p=0.1, inplace=False)\n",
       "            )\n",
       "            (output): BertSelfOutput(\n",
       "              (dense): Linear(in_features=768, out_features=768, bias=True)\n",
       "              (LayerNorm): LayerNorm((768,), eps=1e-12, elementwise_affine=True)\n",
       "              (dropout): Dropout(p=0.1, inplace=False)\n",
       "            )\n",
       "          )\n",
       "          (intermediate): BertIntermediate(\n",
       "            (dense): Linear(in_features=768, out_features=3072, bias=True)\n",
       "          )\n",
       "          (output): BertOutput(\n",
       "            (dense): Linear(in_features=3072, out_features=768, bias=True)\n",
       "            (LayerNorm): LayerNorm((768,), eps=1e-12, elementwise_affine=True)\n",
       "            (dropout): Dropout(p=0.1, inplace=False)\n",
       "          )\n",
       "        )\n",
       "        (3): BertLayer(\n",
       "          (attention): BertAttention(\n",
       "            (self): BertSelfAttention(\n",
       "              (query): Linear(in_features=768, out_features=768, bias=True)\n",
       "              (key): Linear(in_features=768, out_features=768, bias=True)\n",
       "              (value): Linear(in_features=768, out_features=768, bias=True)\n",
       "              (dropout): Dropout(p=0.1, inplace=False)\n",
       "            )\n",
       "            (output): BertSelfOutput(\n",
       "              (dense): Linear(in_features=768, out_features=768, bias=True)\n",
       "              (LayerNorm): LayerNorm((768,), eps=1e-12, elementwise_affine=True)\n",
       "              (dropout): Dropout(p=0.1, inplace=False)\n",
       "            )\n",
       "          )\n",
       "          (intermediate): BertIntermediate(\n",
       "            (dense): Linear(in_features=768, out_features=3072, bias=True)\n",
       "          )\n",
       "          (output): BertOutput(\n",
       "            (dense): Linear(in_features=3072, out_features=768, bias=True)\n",
       "            (LayerNorm): LayerNorm((768,), eps=1e-12, elementwise_affine=True)\n",
       "            (dropout): Dropout(p=0.1, inplace=False)\n",
       "          )\n",
       "        )\n",
       "        (4): BertLayer(\n",
       "          (attention): BertAttention(\n",
       "            (self): BertSelfAttention(\n",
       "              (query): Linear(in_features=768, out_features=768, bias=True)\n",
       "              (key): Linear(in_features=768, out_features=768, bias=True)\n",
       "              (value): Linear(in_features=768, out_features=768, bias=True)\n",
       "              (dropout): Dropout(p=0.1, inplace=False)\n",
       "            )\n",
       "            (output): BertSelfOutput(\n",
       "              (dense): Linear(in_features=768, out_features=768, bias=True)\n",
       "              (LayerNorm): LayerNorm((768,), eps=1e-12, elementwise_affine=True)\n",
       "              (dropout): Dropout(p=0.1, inplace=False)\n",
       "            )\n",
       "          )\n",
       "          (intermediate): BertIntermediate(\n",
       "            (dense): Linear(in_features=768, out_features=3072, bias=True)\n",
       "          )\n",
       "          (output): BertOutput(\n",
       "            (dense): Linear(in_features=3072, out_features=768, bias=True)\n",
       "            (LayerNorm): LayerNorm((768,), eps=1e-12, elementwise_affine=True)\n",
       "            (dropout): Dropout(p=0.1, inplace=False)\n",
       "          )\n",
       "        )\n",
       "        (5): BertLayer(\n",
       "          (attention): BertAttention(\n",
       "            (self): BertSelfAttention(\n",
       "              (query): Linear(in_features=768, out_features=768, bias=True)\n",
       "              (key): Linear(in_features=768, out_features=768, bias=True)\n",
       "              (value): Linear(in_features=768, out_features=768, bias=True)\n",
       "              (dropout): Dropout(p=0.1, inplace=False)\n",
       "            )\n",
       "            (output): BertSelfOutput(\n",
       "              (dense): Linear(in_features=768, out_features=768, bias=True)\n",
       "              (LayerNorm): LayerNorm((768,), eps=1e-12, elementwise_affine=True)\n",
       "              (dropout): Dropout(p=0.1, inplace=False)\n",
       "            )\n",
       "          )\n",
       "          (intermediate): BertIntermediate(\n",
       "            (dense): Linear(in_features=768, out_features=3072, bias=True)\n",
       "          )\n",
       "          (output): BertOutput(\n",
       "            (dense): Linear(in_features=3072, out_features=768, bias=True)\n",
       "            (LayerNorm): LayerNorm((768,), eps=1e-12, elementwise_affine=True)\n",
       "            (dropout): Dropout(p=0.1, inplace=False)\n",
       "          )\n",
       "        )\n",
       "        (6): BertLayer(\n",
       "          (attention): BertAttention(\n",
       "            (self): BertSelfAttention(\n",
       "              (query): Linear(in_features=768, out_features=768, bias=True)\n",
       "              (key): Linear(in_features=768, out_features=768, bias=True)\n",
       "              (value): Linear(in_features=768, out_features=768, bias=True)\n",
       "              (dropout): Dropout(p=0.1, inplace=False)\n",
       "            )\n",
       "            (output): BertSelfOutput(\n",
       "              (dense): Linear(in_features=768, out_features=768, bias=True)\n",
       "              (LayerNorm): LayerNorm((768,), eps=1e-12, elementwise_affine=True)\n",
       "              (dropout): Dropout(p=0.1, inplace=False)\n",
       "            )\n",
       "          )\n",
       "          (intermediate): BertIntermediate(\n",
       "            (dense): Linear(in_features=768, out_features=3072, bias=True)\n",
       "          )\n",
       "          (output): BertOutput(\n",
       "            (dense): Linear(in_features=3072, out_features=768, bias=True)\n",
       "            (LayerNorm): LayerNorm((768,), eps=1e-12, elementwise_affine=True)\n",
       "            (dropout): Dropout(p=0.1, inplace=False)\n",
       "          )\n",
       "        )\n",
       "        (7): BertLayer(\n",
       "          (attention): BertAttention(\n",
       "            (self): BertSelfAttention(\n",
       "              (query): Linear(in_features=768, out_features=768, bias=True)\n",
       "              (key): Linear(in_features=768, out_features=768, bias=True)\n",
       "              (value): Linear(in_features=768, out_features=768, bias=True)\n",
       "              (dropout): Dropout(p=0.1, inplace=False)\n",
       "            )\n",
       "            (output): BertSelfOutput(\n",
       "              (dense): Linear(in_features=768, out_features=768, bias=True)\n",
       "              (LayerNorm): LayerNorm((768,), eps=1e-12, elementwise_affine=True)\n",
       "              (dropout): Dropout(p=0.1, inplace=False)\n",
       "            )\n",
       "          )\n",
       "          (intermediate): BertIntermediate(\n",
       "            (dense): Linear(in_features=768, out_features=3072, bias=True)\n",
       "          )\n",
       "          (output): BertOutput(\n",
       "            (dense): Linear(in_features=3072, out_features=768, bias=True)\n",
       "            (LayerNorm): LayerNorm((768,), eps=1e-12, elementwise_affine=True)\n",
       "            (dropout): Dropout(p=0.1, inplace=False)\n",
       "          )\n",
       "        )\n",
       "        (8): BertLayer(\n",
       "          (attention): BertAttention(\n",
       "            (self): BertSelfAttention(\n",
       "              (query): Linear(in_features=768, out_features=768, bias=True)\n",
       "              (key): Linear(in_features=768, out_features=768, bias=True)\n",
       "              (value): Linear(in_features=768, out_features=768, bias=True)\n",
       "              (dropout): Dropout(p=0.1, inplace=False)\n",
       "            )\n",
       "            (output): BertSelfOutput(\n",
       "              (dense): Linear(in_features=768, out_features=768, bias=True)\n",
       "              (LayerNorm): LayerNorm((768,), eps=1e-12, elementwise_affine=True)\n",
       "              (dropout): Dropout(p=0.1, inplace=False)\n",
       "            )\n",
       "          )\n",
       "          (intermediate): BertIntermediate(\n",
       "            (dense): Linear(in_features=768, out_features=3072, bias=True)\n",
       "          )\n",
       "          (output): BertOutput(\n",
       "            (dense): Linear(in_features=3072, out_features=768, bias=True)\n",
       "            (LayerNorm): LayerNorm((768,), eps=1e-12, elementwise_affine=True)\n",
       "            (dropout): Dropout(p=0.1, inplace=False)\n",
       "          )\n",
       "        )\n",
       "        (9): BertLayer(\n",
       "          (attention): BertAttention(\n",
       "            (self): BertSelfAttention(\n",
       "              (query): Linear(in_features=768, out_features=768, bias=True)\n",
       "              (key): Linear(in_features=768, out_features=768, bias=True)\n",
       "              (value): Linear(in_features=768, out_features=768, bias=True)\n",
       "              (dropout): Dropout(p=0.1, inplace=False)\n",
       "            )\n",
       "            (output): BertSelfOutput(\n",
       "              (dense): Linear(in_features=768, out_features=768, bias=True)\n",
       "              (LayerNorm): LayerNorm((768,), eps=1e-12, elementwise_affine=True)\n",
       "              (dropout): Dropout(p=0.1, inplace=False)\n",
       "            )\n",
       "          )\n",
       "          (intermediate): BertIntermediate(\n",
       "            (dense): Linear(in_features=768, out_features=3072, bias=True)\n",
       "          )\n",
       "          (output): BertOutput(\n",
       "            (dense): Linear(in_features=3072, out_features=768, bias=True)\n",
       "            (LayerNorm): LayerNorm((768,), eps=1e-12, elementwise_affine=True)\n",
       "            (dropout): Dropout(p=0.1, inplace=False)\n",
       "          )\n",
       "        )\n",
       "        (10): BertLayer(\n",
       "          (attention): BertAttention(\n",
       "            (self): BertSelfAttention(\n",
       "              (query): Linear(in_features=768, out_features=768, bias=True)\n",
       "              (key): Linear(in_features=768, out_features=768, bias=True)\n",
       "              (value): Linear(in_features=768, out_features=768, bias=True)\n",
       "              (dropout): Dropout(p=0.1, inplace=False)\n",
       "            )\n",
       "            (output): BertSelfOutput(\n",
       "              (dense): Linear(in_features=768, out_features=768, bias=True)\n",
       "              (LayerNorm): LayerNorm((768,), eps=1e-12, elementwise_affine=True)\n",
       "              (dropout): Dropout(p=0.1, inplace=False)\n",
       "            )\n",
       "          )\n",
       "          (intermediate): BertIntermediate(\n",
       "            (dense): Linear(in_features=768, out_features=3072, bias=True)\n",
       "          )\n",
       "          (output): BertOutput(\n",
       "            (dense): Linear(in_features=3072, out_features=768, bias=True)\n",
       "            (LayerNorm): LayerNorm((768,), eps=1e-12, elementwise_affine=True)\n",
       "            (dropout): Dropout(p=0.1, inplace=False)\n",
       "          )\n",
       "        )\n",
       "        (11): BertLayer(\n",
       "          (attention): BertAttention(\n",
       "            (self): BertSelfAttention(\n",
       "              (query): Linear(in_features=768, out_features=768, bias=True)\n",
       "              (key): Linear(in_features=768, out_features=768, bias=True)\n",
       "              (value): Linear(in_features=768, out_features=768, bias=True)\n",
       "              (dropout): Dropout(p=0.1, inplace=False)\n",
       "            )\n",
       "            (output): BertSelfOutput(\n",
       "              (dense): Linear(in_features=768, out_features=768, bias=True)\n",
       "              (LayerNorm): LayerNorm((768,), eps=1e-12, elementwise_affine=True)\n",
       "              (dropout): Dropout(p=0.1, inplace=False)\n",
       "            )\n",
       "          )\n",
       "          (intermediate): BertIntermediate(\n",
       "            (dense): Linear(in_features=768, out_features=3072, bias=True)\n",
       "          )\n",
       "          (output): BertOutput(\n",
       "            (dense): Linear(in_features=3072, out_features=768, bias=True)\n",
       "            (LayerNorm): LayerNorm((768,), eps=1e-12, elementwise_affine=True)\n",
       "            (dropout): Dropout(p=0.1, inplace=False)\n",
       "          )\n",
       "        )\n",
       "      )\n",
       "    )\n",
       "    (pooler): BertPooler(\n",
       "      (dense): Linear(in_features=768, out_features=768, bias=True)\n",
       "      (activation): Tanh()\n",
       "    )\n",
       "  )\n",
       "  (dropout_layer): Dropout(p=0.3, inplace=False)\n",
       "  (linear_layer): Linear(in_features=768, out_features=3, bias=True)\n",
       ")"
      ]
     },
     "execution_count": 60,
     "metadata": {},
     "output_type": "execute_result"
    }
   ],
   "source": [
    "final_model = SentimentModel(3)\n",
    "final_model.load_state_dict(torch.load('../input/trained-model/best_model_0.bin'))\n",
    "final_model"
   ]
  },
  {
   "cell_type": "code",
   "execution_count": 74,
   "metadata": {
    "execution": {
     "iopub.execute_input": "2021-08-07T13:11:54.488825Z",
     "iopub.status.busy": "2021-08-07T13:11:54.488490Z",
     "iopub.status.idle": "2021-08-07T13:11:54.497316Z",
     "shell.execute_reply": "2021-08-07T13:11:54.496432Z",
     "shell.execute_reply.started": "2021-08-07T13:11:54.488796Z"
    }
   },
   "outputs": [],
   "source": [
    "def predict(model,data_loader):\n",
    "    \n",
    "    model.eval()\n",
    "    \n",
    "    reviews_text = []\n",
    "    predictions = []\n",
    "    actuals = []\n",
    "    pred_probabilities = []\n",
    "    \n",
    "    with torch.no_grad():\n",
    "        \n",
    "        for data in data_loader:\n",
    "            \n",
    "            data['x'] = data['x'].cuda()\n",
    "            data['y'] = data['y'].cuda()\n",
    "            data['attention_mask'] = data['attention_mask'].cuda()\n",
    "        \n",
    "            model_output = model(input_ids = data['x'] , attention_mask = data['attention_mask'])\n",
    "\n",
    "            _,pred = torch.max(model_output , dim=1) # This will return the max value and the position(0,1 or 2).\n",
    "            \n",
    "            pred_proba = nn.functional.softmax(model_output , dim=1) # Because model output is just after a linear layer.We want to compress it btw 0 and 1.\n",
    "            \n",
    "            predictions.extend(pred)\n",
    "            actuals.extend(data['y'])\n",
    "            reviews_text.extend(data['review_text'])\n",
    "            pred_probabilities.extend(pred_proba)\n",
    "        \n",
    "        # Converting in tensors using stack method and putting into CPU\n",
    "        return reviews_text,torch.stack(predictions).cpu(),torch.stack(actuals).cpu(),torch.stack(pred_probabilities).cpu()\n",
    "    "
   ]
  },
  {
   "cell_type": "code",
   "execution_count": 75,
   "metadata": {
    "execution": {
     "iopub.execute_input": "2021-08-07T13:11:54.852593Z",
     "iopub.status.busy": "2021-08-07T13:11:54.852251Z",
     "iopub.status.idle": "2021-08-07T13:12:08.979900Z",
     "shell.execute_reply": "2021-08-07T13:12:08.978979Z",
     "shell.execute_reply.started": "2021-08-07T13:11:54.852565Z"
    }
   },
   "outputs": [],
   "source": [
    "reviews,predicted,actuals,pred_proba = predict(model,test_DataLoader)"
   ]
  },
  {
   "cell_type": "code",
   "execution_count": 94,
   "metadata": {
    "execution": {
     "iopub.execute_input": "2021-08-07T13:22:06.853179Z",
     "iopub.status.busy": "2021-08-07T13:22:06.852707Z",
     "iopub.status.idle": "2021-08-07T13:22:06.897798Z",
     "shell.execute_reply": "2021-08-07T13:22:06.894288Z",
     "shell.execute_reply.started": "2021-08-07T13:22:06.853137Z"
    }
   },
   "outputs": [
    {
     "name": "stdout",
     "output_type": "stream",
     "text": [
      "Accuracy               : 0.923\n",
      "\n",
      "Matthews_Corr_coef     : 0.882\n",
      "\n",
      "              precision    recall  f1-score   support\n",
      "\n",
      "           0       0.90      0.89      0.90      1273\n",
      "           1       0.99      0.96      0.97      1074\n",
      "           2       0.90      0.93      0.91      1643\n",
      "\n",
      "    accuracy                           0.92      3990\n",
      "   macro avg       0.93      0.92      0.93      3990\n",
      "weighted avg       0.92      0.92      0.92      3990\n",
      "\n"
     ]
    }
   ],
   "source": [
    "accuracy = accuracy_score(actuals,predicted)\n",
    "mathews_coeff = matthews_corrcoef(actuals,predicted)\n",
    "confusion = confusion_matrix(actuals,predicted)\n",
    "class_report = classification_report(actuals,predicted)\n",
    "\n",
    "print(f\"Accuracy               : {accuracy:.3f}\")\n",
    "print(f\"\\nMatthews_Corr_coef     : {mathews_coeff:.3f}\")\n",
    "print(f'\\n{class_report}')"
   ]
  },
  {
   "cell_type": "code",
   "execution_count": 99,
   "metadata": {
    "execution": {
     "iopub.execute_input": "2021-08-07T13:25:27.420344Z",
     "iopub.status.busy": "2021-08-07T13:25:27.419945Z",
     "iopub.status.idle": "2021-08-07T13:25:27.738517Z",
     "shell.execute_reply": "2021-08-07T13:25:27.737707Z",
     "shell.execute_reply.started": "2021-08-07T13:25:27.420297Z"
    }
   },
   "outputs": [
    {
     "data": {
      "image/png": "[encoded data removed]",
      "text/plain": [
       "<Figure size 432x288 with 2 Axes>"
      ]
     },
     "metadata": {
      "needs_background": "light"
     },
     "output_type": "display_data"
    }
   ],
   "source": [
    "def show_confusion_matrix(confusion_matrix):\n",
    "  hmap = sns.heatmap(confusion_matrix, annot=True, fmt=\"d\", cmap=\"Blues\")\n",
    "  hmap.yaxis.set_ticklabels(hmap.yaxis.get_ticklabels(), rotation=0, ha='right')\n",
    "  hmap.xaxis.set_ticklabels(hmap.xaxis.get_ticklabels(), rotation=0, ha='right')\n",
    "  plt.ylabel('True Sentiment')\n",
    "  plt.xlabel('\\nPredicted Sentiment');\n",
    "\n",
    "df_cm = pd.DataFrame(confusion, index=[\"Negative\",\"Neutral\",\"Positive\"], columns=[\"Negative\",\"Neutral\",\"Positive\"])\n",
    "show_confusion_matrix(df_cm)"
   ]
  },
  {
   "cell_type": "code",
   "execution_count": null,
   "metadata": {},
   "outputs": [],
   "source": []
  }
 ],
 "metadata": {
  "kernelspec": {
   "display_name": "Python 3",
   "language": "python",
   "name": "python3"
  },
  "language_info": {
   "codemirror_mode": {
    "name": "ipython",
    "version": 3
   },
   "file_extension": ".py",
   "mimetype": "text/x-python",
   "name": "python",
   "nbconvert_exporter": "python",
   "pygments_lexer": "ipython3",
   "version": "3.8.5"
  }
 },
 "nbformat": 4,
 "nbformat_minor": 4
}
